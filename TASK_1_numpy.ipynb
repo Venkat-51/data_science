{
  "nbformat": 4,
  "nbformat_minor": 0,
  "metadata": {
    "colab": {
      "provenance": [],
      "authorship_tag": "ABX9TyOhD6UsrXMC+sdTVo8A0jQC",
      "include_colab_link": true
    },
    "kernelspec": {
      "name": "python3",
      "display_name": "Python 3"
    },
    "language_info": {
      "name": "python"
    }
  },
  "cells": [
    {
      "cell_type": "markdown",
      "metadata": {
        "id": "view-in-github",
        "colab_type": "text"
      },
      "source": [
        "<a href=\"https://colab.research.google.com/github/Venkat-51/data_science/blob/main/TASK_1_numpy.ipynb\" target=\"_parent\"><img src=\"https://colab.research.google.com/assets/colab-badge.svg\" alt=\"Open In Colab\"/></a>"
      ]
    },
    {
      "cell_type": "code",
      "execution_count": null,
      "metadata": {
        "id": "AS4UAhpshkEd"
      },
      "outputs": [],
      "source": [
        "import numpy as np\n",
        "import pandas as pd"
      ]
    },
    {
      "cell_type": "code",
      "source": [
        "from google.colab import drive\n",
        "drive.mount(\"/content/drive/\")"
      ],
      "metadata": {
        "id": "GH-PXEoYhuO_",
        "colab": {
          "base_uri": "https://localhost:8080/"
        },
        "outputId": "a5169621-d746-4b7f-ce37-65afde43a3db"
      },
      "execution_count": null,
      "outputs": [
        {
          "output_type": "stream",
          "name": "stdout",
          "text": [
            "Mounted at /content/drive/\n"
          ]
        }
      ]
    },
    {
      "cell_type": "code",
      "source": [
        "#version Check\n",
        "np.__version__"
      ],
      "metadata": {
        "colab": {
          "base_uri": "https://localhost:8080/",
          "height": 35
        },
        "id": "tYjs386Eko-_",
        "outputId": "089259e2-2d5f-44c7-cfcb-d6aed601f2ca"
      },
      "execution_count": null,
      "outputs": [
        {
          "output_type": "execute_result",
          "data": {
            "text/plain": [
              "'1.23.5'"
            ],
            "application/vnd.google.colaboratory.intrinsic+json": {
              "type": "string"
            }
          },
          "metadata": {},
          "execution_count": 10
        }
      ]
    },
    {
      "cell_type": "markdown",
      "source": [
        "##Creating Array"
      ],
      "metadata": {
        "id": "wU0pO2wTH0l7"
      }
    },
    {
      "cell_type": "code",
      "source": [
        "array = np.array([1,2,3])\n",
        "print(array)"
      ],
      "metadata": {
        "colab": {
          "base_uri": "https://localhost:8080/"
        },
        "id": "7ExiJVNKn-zM",
        "outputId": "68fa78e0-7699-4ba3-b1e4-8c6e1470ce93"
      },
      "execution_count": null,
      "outputs": [
        {
          "output_type": "stream",
          "name": "stdout",
          "text": [
            "[1 2 3]\n"
          ]
        }
      ]
    },
    {
      "cell_type": "code",
      "source": [
        "two_dimentional_array = np.array([[[1,2,3],[4,5,6]],[[7,8,9],[10,11,12]]])\n",
        "print(two_dimentional_array)"
      ],
      "metadata": {
        "colab": {
          "base_uri": "https://localhost:8080/"
        },
        "id": "JpjMo5ehqp2Q",
        "outputId": "4418f05c-7bfe-436c-e973-4ce6a0355cad"
      },
      "execution_count": null,
      "outputs": [
        {
          "output_type": "stream",
          "name": "stdout",
          "text": [
            "[[[ 1  2  3]\n",
            "  [ 4  5  6]]\n",
            "\n",
            " [[ 7  8  9]\n",
            "  [10 11 12]]]\n"
          ]
        }
      ]
    },
    {
      "cell_type": "code",
      "source": [
        "zeros = np.zeros(10)\n",
        "print(zeros)"
      ],
      "metadata": {
        "id": "0EFwAorXrx1s",
        "colab": {
          "base_uri": "https://localhost:8080/"
        },
        "outputId": "01f17a38-cf9d-4b12-82a4-e43df3796c6a"
      },
      "execution_count": null,
      "outputs": [
        {
          "output_type": "stream",
          "name": "stdout",
          "text": [
            "[0. 0. 0. 0. 0. 0. 0. 0. 0. 0.]\n"
          ]
        }
      ]
    },
    {
      "cell_type": "code",
      "source": [
        "ones = np.ones(5)\n",
        "print(ones)"
      ],
      "metadata": {
        "colab": {
          "base_uri": "https://localhost:8080/"
        },
        "id": "Y7eUz1HuJN6m",
        "outputId": "a0e05495-768e-431f-dd31-3d67d081365f"
      },
      "execution_count": null,
      "outputs": [
        {
          "output_type": "stream",
          "name": "stdout",
          "text": [
            "[1. 1. 1. 1. 1.]\n"
          ]
        }
      ]
    },
    {
      "cell_type": "code",
      "source": [
        "# Syntax: np.arange(start, stop, step)\n",
        "# Generate a sequence from start to (stop - step) with the given step size\n",
        "# Note: stop value is not included in the sequence\n",
        "\n",
        "# Example 1: start from 0, stop before 10, with a step of 1\n",
        "sequence1 = np.arange(0, 10, 1)\n",
        "print(\"Example 1:\", sequence1)\n",
        "\n",
        "# Example 2: start from 2, stop before 10, with a step of 2\n",
        "sequence2 = np.arange(2, 10, 2)\n",
        "print(\"Example 2:\", sequence2)\n",
        "\n",
        "# Example 3: start from 1, stop before 5, with a step of 0.5\n",
        "sequence3 = np.arange(1, 5, 0.5)\n",
        "print(\"Example 3:\", sequence3)\n"
      ],
      "metadata": {
        "colab": {
          "base_uri": "https://localhost:8080/"
        },
        "id": "5a3-oVPEKSza",
        "outputId": "3b57578a-aaad-4407-9026-96c7764b2a1b"
      },
      "execution_count": null,
      "outputs": [
        {
          "output_type": "stream",
          "name": "stdout",
          "text": [
            "Example 1: [0 1 2 3 4 5 6 7 8 9]\n",
            "Example 2: [2 4 6 8]\n",
            "Example 3: [1.  1.5 2.  2.5 3.  3.5 4.  4.5]\n"
          ]
        }
      ]
    },
    {
      "cell_type": "code",
      "source": [
        "# Example 2: Generate 10 values from 2 to 5\n",
        "sequence2 = np.linspace(2, 5, 10)\n",
        "print(\"Example 2:\", sequence2)\n",
        "\n",
        "# Example 3: Generate 20 values from 1 to 100\n",
        "sequence3 = np.linspace(1, 100, 20)\n",
        "print(\"Example 3:\", sequence3)\n"
      ],
      "metadata": {
        "colab": {
          "base_uri": "https://localhost:8080/"
        },
        "id": "JwXcFmmmMw09",
        "outputId": "f5dacaf5-6d65-42c5-be8c-744e00ceb4c7"
      },
      "execution_count": null,
      "outputs": [
        {
          "output_type": "stream",
          "name": "stdout",
          "text": [
            "Example 2: [2.         2.33333333 2.66666667 3.         3.33333333 3.66666667\n",
            " 4.         4.33333333 4.66666667 5.        ]\n",
            "Example 3: [  1.           6.21052632  11.42105263  16.63157895  21.84210526\n",
            "  27.05263158  32.26315789  37.47368421  42.68421053  47.89473684\n",
            "  53.10526316  58.31578947  63.52631579  68.73684211  73.94736842\n",
            "  79.15789474  84.36842105  89.57894737  94.78947368 100.        ]\n"
          ]
        }
      ]
    },
    {
      "cell_type": "code",
      "source": [
        "import numpy as np\n",
        "\n",
        "# Syntax: np.eye(N, M=None, k=0, dtype=<class 'float'>, order='C')\n",
        "# N: Number of rows (and columns) in the output matrix.\n",
        "# M: Number of columns in the output matrix. If None, defaults to N.\n",
        "# k: Index of the diagonal (0 for the main diagonal, positive for diagonals above it, negative for below).\n",
        "# dtype: Data type of the output array.\n",
        "# order: Whether to store multi-dimensional data in row-major (C-style) or column-major (Fortran-style) order.\n",
        "\n",
        "# Example 1: Create a 3x3 identity matrix\n",
        "identity_matrix_3x3 = np.eye(3)\n",
        "print(\"Example 1:\")\n",
        "print(identity_matrix_3x3)\n",
        "\n",
        "# Example 2: Create a 4x5 identity matrix\n",
        "identity_matrix_4x5 = np.eye(4, 5)\n",
        "print(\"\\nExample 2:\")\n",
        "print(identity_matrix_4x5)\n",
        "\n",
        "# Example 3: Create a 2x2 identity matrix with a different data type (int)\n",
        "identity_matrix_2x2_int = np.eye(2, dtype=int)\n",
        "print(\"\\nExample 3:\")\n",
        "print(identity_matrix_2x2_int)\n"
      ],
      "metadata": {
        "colab": {
          "base_uri": "https://localhost:8080/"
        },
        "id": "qJmcpqA4Rupu",
        "outputId": "18f134fa-ef59-4134-84b4-83b48e8c20d3"
      },
      "execution_count": null,
      "outputs": [
        {
          "output_type": "stream",
          "name": "stdout",
          "text": [
            "Example 1:\n",
            "[[1. 0. 0.]\n",
            " [0. 1. 0.]\n",
            " [0. 0. 1.]]\n",
            "\n",
            "Example 2:\n",
            "[[1. 0. 0. 0. 0.]\n",
            " [0. 1. 0. 0. 0.]\n",
            " [0. 0. 1. 0. 0.]\n",
            " [0. 0. 0. 1. 0.]]\n",
            "\n",
            "Example 3:\n",
            "[[1 0]\n",
            " [0 1]]\n"
          ]
        }
      ]
    },
    {
      "cell_type": "markdown",
      "source": [
        "##Array Information"
      ],
      "metadata": {
        "id": "0xF4PxfyS4OZ"
      }
    },
    {
      "cell_type": "code",
      "source": [
        "import numpy as np\n",
        "\n",
        "# Create a NumPy array\n",
        "my_array = np.array([[1, 2, 3], [4, 5, 6]])\n",
        "\n",
        "# Get the shape of the array\n",
        "array_shape = my_array.shape\n",
        "\n",
        "# Print the result\n",
        "print(\"Array:\")\n",
        "print(my_array)\n",
        "print(\"\\nShape of the array:\", array_shape)\n"
      ],
      "metadata": {
        "colab": {
          "base_uri": "https://localhost:8080/"
        },
        "id": "zqLprYOYTF-w",
        "outputId": "84290982-91f4-47d5-f4b6-ddb9d67e8a4e"
      },
      "execution_count": null,
      "outputs": [
        {
          "output_type": "stream",
          "name": "stdout",
          "text": [
            "Array:\n",
            "[[1 2 3]\n",
            " [4 5 6]]\n",
            "\n",
            "Shape of the array: (2, 3)\n"
          ]
        }
      ]
    },
    {
      "cell_type": "code",
      "source": [
        "import numpy as np\n",
        "\n",
        "# Create NumPy arrays with different dimensions\n",
        "array_1d = np.array([1, 2, 3, 4, 5])\n",
        "array_2d = np.array([[1, 2, 3], [4, 5, 6]])\n",
        "array_3d = np.array([[[1, 2], [3, 4]], [[5, 6], [7, 8]]])\n",
        "\n",
        "# Get the number of dimensions for each array\n",
        "ndim_1d = array_1d.ndim\n",
        "ndim_2d = array_2d.ndim\n",
        "ndim_3d = array_3d.ndim\n",
        "\n",
        "# Print the results\n",
        "print(\"1D Array:\")\n",
        "print(array_1d)\n",
        "print(\"Number of dimensions:\", ndim_1d)\n",
        "\n",
        "print(\"\\n2D Array:\")\n",
        "print(array_2d)\n",
        "print(\"Number of dimensions:\", ndim_2d)\n",
        "\n",
        "print(\"\\n3D Array:\")\n",
        "print(array_3d)\n",
        "print(\"Number of dimensions:\", ndim_3d)"
      ],
      "metadata": {
        "colab": {
          "base_uri": "https://localhost:8080/"
        },
        "id": "f6qPBS6yTPCb",
        "outputId": "5ac38088-2a26-457e-dfe1-dc321eee7731"
      },
      "execution_count": null,
      "outputs": [
        {
          "output_type": "stream",
          "name": "stdout",
          "text": [
            "1D Array:\n",
            "[1 2 3 4 5]\n",
            "Number of dimensions: 1\n",
            "\n",
            "2D Array:\n",
            "[[1 2 3]\n",
            " [4 5 6]]\n",
            "Number of dimensions: 2\n",
            "\n",
            "3D Array:\n",
            "[[[1 2]\n",
            "  [3 4]]\n",
            "\n",
            " [[5 6]\n",
            "  [7 8]]]\n",
            "Number of dimensions: 3\n"
          ]
        }
      ]
    },
    {
      "cell_type": "code",
      "source": [
        "import numpy as np\n",
        "\n",
        "# Create NumPy arrays with different sizes\n",
        "array_1d = np.array([1, 2, 3, 4, 5])\n",
        "array_2d = np.array([[1, 2, 3], [4, 5, 6]])\n",
        "array_3d = np.array([[[1, 2], [3, 4]], [[5, 6], [7, 8]]])\n",
        "\n",
        "# Get the size (total number of elements) for each array\n",
        "size_1d = array_1d.size\n",
        "size_2d = array_2d.size\n",
        "size_3d = array_3d.size\n",
        "\n",
        "# Print the results\n",
        "print(\"1D Array:\")\n",
        "print(array_1d)\n",
        "print(\"Size of the 1D array:\", size_1d)\n",
        "\n",
        "print(\"\\n2D Array:\")\n",
        "print(array_2d)\n",
        "print(\"Size of the 2D array:\", size_2d)\n",
        "\n",
        "print(\"\\n3D Array:\")\n",
        "print(array_3d)\n",
        "print(\"Size of the 3D array:\", size_3d)\n"
      ],
      "metadata": {
        "colab": {
          "base_uri": "https://localhost:8080/"
        },
        "id": "CgLQBfjzV5fc",
        "outputId": "1bbc6e59-7b16-442d-b687-607bd904769b"
      },
      "execution_count": null,
      "outputs": [
        {
          "output_type": "stream",
          "name": "stdout",
          "text": [
            "1D Array:\n",
            "[1 2 3 4 5]\n",
            "Size of the 1D array: 5\n",
            "\n",
            "2D Array:\n",
            "[[1 2 3]\n",
            " [4 5 6]]\n",
            "Size of the 2D array: 6\n",
            "\n",
            "3D Array:\n",
            "[[[1 2]\n",
            "  [3 4]]\n",
            "\n",
            " [[5 6]\n",
            "  [7 8]]]\n",
            "Size of the 3D array: 8\n"
          ]
        }
      ]
    },
    {
      "cell_type": "code",
      "source": [
        "import numpy as np\n",
        "\n",
        "# Create a NumPy array\n",
        "my_array = np.array([1, 2, 3, 4, 5])\n",
        "\n",
        "# Get the data type of the array\n",
        "data_type = my_array.dtype\n",
        "\n",
        "# Print the result\n",
        "print(\"Array:\")\n",
        "print(my_array)\n",
        "print(\"\\nData type of the array:\", data_type)\n"
      ],
      "metadata": {
        "colab": {
          "base_uri": "https://localhost:8080/"
        },
        "id": "J1UAHuqqXmy2",
        "outputId": "02b37326-de68-4073-f771-cd9412eed135"
      },
      "execution_count": null,
      "outputs": [
        {
          "output_type": "stream",
          "name": "stdout",
          "text": [
            "Array:\n",
            "[1 2 3 4 5]\n",
            "\n",
            "Data type of the array: int64\n"
          ]
        }
      ]
    },
    {
      "cell_type": "markdown",
      "source": [
        "##Array Operations"
      ],
      "metadata": {
        "id": "x4Hy3OnvYKez"
      }
    },
    {
      "cell_type": "code",
      "source": [
        "import numpy as np\n",
        "\n",
        "# Create two NumPy arrays\n",
        "array1 = np.array([1, 2, 3])\n",
        "array2 = np.array([4, 5, 6])\n",
        "\n",
        "# Use np.add for element-wise addition\n",
        "result = np.add(array1, array2)\n",
        "\n",
        "# Print the result\n",
        "print(\"Array 1:\", array1)\n",
        "print(\"Array 2:\", array2)\n",
        "print(\"Result of element-wise addition:\", result)\n"
      ],
      "metadata": {
        "colab": {
          "base_uri": "https://localhost:8080/"
        },
        "id": "OhxDQMeOYO4-",
        "outputId": "795792dd-e652-4488-b514-07977891beed"
      },
      "execution_count": null,
      "outputs": [
        {
          "output_type": "stream",
          "name": "stdout",
          "text": [
            "Array 1: [1 2 3]\n",
            "Array 2: [4 5 6]\n",
            "Result of element-wise addition: [5 7 9]\n"
          ]
        }
      ]
    },
    {
      "cell_type": "code",
      "source": [
        "import numpy as np\n",
        "\n",
        "# Create two NumPy arrays\n",
        "array1 = np.array([4, 7, 9])\n",
        "array2 = np.array([1, 3, 6])\n",
        "\n",
        "# Use np.subtract for element-wise subtraction\n",
        "result = np.subtract(array1, array2)\n",
        "\n",
        "# Print the result\n",
        "print(\"Array 1:\", array1)\n",
        "print(\"Array 2:\", array2)\n",
        "print(\"Result of element-wise subtraction:\", result)\n"
      ],
      "metadata": {
        "colab": {
          "base_uri": "https://localhost:8080/"
        },
        "id": "VNwumNAYYmyd",
        "outputId": "8b1841b0-cb49-4cc7-97e1-12ec5ea47245"
      },
      "execution_count": null,
      "outputs": [
        {
          "output_type": "stream",
          "name": "stdout",
          "text": [
            "Array 1: [4 7 9]\n",
            "Array 2: [1 3 6]\n",
            "Result of element-wise subtraction: [3 4 3]\n"
          ]
        }
      ]
    },
    {
      "cell_type": "code",
      "source": [
        "import numpy as np\n",
        "\n",
        "# Create two NumPy arrays\n",
        "array1 = np.array([2, 4, 6])\n",
        "array2 = np.array([3, 2, 1])\n",
        "\n",
        "# Use np.multiply for element-wise multiplication\n",
        "result = np.multiply(array1, array2)\n",
        "\n",
        "# Print the result\n",
        "print(\"Array 1:\", array1)\n",
        "print(\"Array 2:\", array2)\n",
        "print(\"Result of element-wise multiplication:\", result)\n"
      ],
      "metadata": {
        "colab": {
          "base_uri": "https://localhost:8080/"
        },
        "id": "-G57bGCGYoCI",
        "outputId": "028c92c4-22c2-48df-b294-8826e8ba5a93"
      },
      "execution_count": null,
      "outputs": [
        {
          "output_type": "stream",
          "name": "stdout",
          "text": [
            "Array 1: [2 4 6]\n",
            "Array 2: [3 2 1]\n",
            "Result of element-wise multiplication: [6 8 6]\n"
          ]
        }
      ]
    },
    {
      "cell_type": "code",
      "source": [
        "import numpy as np\n",
        "\n",
        "# Create two NumPy arrays\n",
        "array1 = np.array([10, 20, 30])\n",
        "array2 = np.array([2, 5, 3])\n",
        "\n",
        "# Use np.divide for element-wise division\n",
        "result = np.divide(array1, array2)\n",
        "\n",
        "# Print the result\n",
        "print(\"Array 1:\", array1)\n",
        "print(\"Array 2:\", array2)\n",
        "print(\"Result of element-wise division:\", result)\n"
      ],
      "metadata": {
        "colab": {
          "base_uri": "https://localhost:8080/"
        },
        "id": "2HLKvX0yY6uT",
        "outputId": "c806e531-d0b6-4384-eca9-e746a3ad0fda"
      },
      "execution_count": null,
      "outputs": [
        {
          "output_type": "stream",
          "name": "stdout",
          "text": [
            "Array 1: [10 20 30]\n",
            "Array 2: [2 5 3]\n",
            "Result of element-wise division: [ 5.  4. 10.]\n"
          ]
        }
      ]
    },
    {
      "cell_type": "code",
      "source": [
        "import numpy as np\n",
        "\n",
        "# Create two NumPy arrays representing vectors\n",
        "vector1 = np.array([1, 2, 3])\n",
        "vector2 = np.array([4, 5, 6])\n",
        "\n",
        "# Calculate the dot product using np.dot\n",
        "dot_product = np.dot(vector1, vector2)\n",
        "\n",
        "# Print the result\n",
        "print(\"Vector 1:\", vector1)\n",
        "print(\"Vector 2:\", vector2)\n",
        "print(\"Dot product of the vectors:\", dot_product)"
      ],
      "metadata": {
        "colab": {
          "base_uri": "https://localhost:8080/"
        },
        "id": "yD0COOdJZPn3",
        "outputId": "a96f179a-3bae-4da0-d2c4-f49c5353187e"
      },
      "execution_count": null,
      "outputs": [
        {
          "output_type": "stream",
          "name": "stdout",
          "text": [
            "Vector 1: [1 2 3]\n",
            "Vector 2: [4 5 6]\n",
            "Dot product of the vectors: 32\n"
          ]
        }
      ]
    },
    {
      "cell_type": "code",
      "source": [
        "import numpy as np\n",
        "\n",
        "# Create two NumPy arrays representing matrices\n",
        "matrix1 = np.array([[1, 2], [3, 4]])\n",
        "matrix2 = np.array([[5, 6], [7, 8]])\n",
        "\n",
        "# Perform matrix multiplication using np.dot\n",
        "matrix_product = np.dot(matrix1, matrix2)\n",
        "\n",
        "# Print the result\n",
        "print(\"Matrix 1:\")\n",
        "print(matrix1)\n",
        "print(\"\\nMatrix 2:\")\n",
        "print(matrix2)\n",
        "print(\"\\nResult of matrix multiplication:\")\n",
        "print(matrix_product)\n"
      ],
      "metadata": {
        "colab": {
          "base_uri": "https://localhost:8080/"
        },
        "id": "jmI2sQsiajPo",
        "outputId": "a12bf312-42f7-40e7-f45a-842a7f16bc94"
      },
      "execution_count": null,
      "outputs": [
        {
          "output_type": "stream",
          "name": "stdout",
          "text": [
            "Matrix 1:\n",
            "[[1 2]\n",
            " [3 4]]\n",
            "\n",
            "Matrix 2:\n",
            "[[5 6]\n",
            " [7 8]]\n",
            "\n",
            "Result of matrix multiplication:\n",
            "[[19 22]\n",
            " [43 50]]\n"
          ]
        }
      ]
    },
    {
      "cell_type": "code",
      "source": [
        "# Alternative syntax for matrix multiplication using the @ operator\n",
        "matrix_product_operator = matrix1 @ matrix2\n",
        "\n",
        "# Print the result using the @ operator\n",
        "print(\"\\nResult using @ operator:\")\n",
        "print(matrix_product_operator)\n"
      ],
      "metadata": {
        "colab": {
          "base_uri": "https://localhost:8080/"
        },
        "id": "jdHWzbk6alQY",
        "outputId": "ec650f1f-71aa-471f-ee3e-d008cc4b965d"
      },
      "execution_count": null,
      "outputs": [
        {
          "output_type": "stream",
          "name": "stdout",
          "text": [
            "\n",
            "Result using @ operator:\n",
            "[[19 22]\n",
            " [43 50]]\n"
          ]
        }
      ]
    },
    {
      "cell_type": "markdown",
      "source": [
        "##Random"
      ],
      "metadata": {
        "id": "9IVb4BJvGbfy"
      }
    },
    {
      "cell_type": "code",
      "source": [
        "import numpy as np\n",
        "np.random.seed(0) # seed for reproducibility\n",
        "x1=np.random.randint(10, size=6) #one-dimensional array\n",
        "x2=np.random.randint(10, size=(3, 4)) #two-dimensional array\n",
        "x3=np.random.randint(10, size=(3, 4, 5)) #three-dimensional array"
      ],
      "metadata": {
        "id": "UGIepkCEGZsd"
      },
      "execution_count": null,
      "outputs": []
    },
    {
      "cell_type": "code",
      "source": [
        "print(\"x3 ndim: \", x3.ndim)\n",
        "print(\"x3 shape:\", x3.shape)\n",
        "print(\"x3 size: \", x3.size)"
      ],
      "metadata": {
        "colab": {
          "base_uri": "https://localhost:8080/"
        },
        "id": "zysWBhW5Gpzo",
        "outputId": "2f537d58-bda2-40d0-e051-2480867ca2cb"
      },
      "execution_count": null,
      "outputs": [
        {
          "output_type": "stream",
          "name": "stdout",
          "text": [
            "x3 ndim:  3\n",
            "x3 shape: (3, 4, 5)\n",
            "x3 size:  60\n"
          ]
        }
      ]
    },
    {
      "cell_type": "code",
      "source": [
        "a = np.arange(6)\n",
        "a2 = a[np.newaxis, :]\n",
        "a2.shape"
      ],
      "metadata": {
        "colab": {
          "base_uri": "https://localhost:8080/"
        },
        "id": "TLJQlP_7GwvG",
        "outputId": "e917a0df-b6eb-4f7f-bb03-f7923cd64ff3"
      },
      "execution_count": null,
      "outputs": [
        {
          "output_type": "execute_result",
          "data": {
            "text/plain": [
              "(1, 6)"
            ]
          },
          "metadata": {},
          "execution_count": 4
        }
      ]
    }
  ]
}