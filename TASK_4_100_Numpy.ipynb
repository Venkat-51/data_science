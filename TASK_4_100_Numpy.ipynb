{
  "cells": [
    {
      "cell_type": "markdown",
      "metadata": {
        "id": "view-in-github",
        "colab_type": "text"
      },
      "source": [
        "<a href=\"https://colab.research.google.com/github/Venkat-51/data_science/blob/main/TASK_4_100_Numpy.ipynb\" target=\"_parent\"><img src=\"https://colab.research.google.com/assets/colab-badge.svg\" alt=\"Open In Colab\"/></a>"
      ]
    },
    {
      "cell_type": "markdown",
      "metadata": {
        "id": "f44a2f2b"
      },
      "source": [
        "# 100 numpy exercises\n"
      ],
      "id": "f44a2f2b"
    },
    {
      "cell_type": "markdown",
      "metadata": {
        "id": "0fe3d529"
      },
      "source": [
        "File automatically generated. See the documentation to update questions/answers/hints programmatically."
      ],
      "id": "0fe3d529"
    },
    {
      "cell_type": "markdown",
      "metadata": {
        "id": "23296a93"
      },
      "source": [
        "Run the `initialize.py` module, then for each question you can query the\n",
        "answer or an hint with `hint(n)` or `answer(n)` for `n` question number."
      ],
      "id": "23296a93"
    },
    {
      "cell_type": "code",
      "execution_count": null,
      "metadata": {
        "id": "530390cf"
      },
      "outputs": [],
      "source": [
        "%run initialise.py"
      ],
      "id": "530390cf"
    },
    {
      "cell_type": "markdown",
      "metadata": {
        "id": "96443564"
      },
      "source": [
        "#### 1. Import the numpy package under the name `np` (★☆☆)"
      ],
      "id": "96443564"
    },
    {
      "cell_type": "code",
      "execution_count": null,
      "metadata": {
        "id": "ffe1047e"
      },
      "outputs": [],
      "source": [
        "import numpy as np"
      ],
      "id": "ffe1047e"
    },
    {
      "cell_type": "markdown",
      "metadata": {
        "id": "c807bf1d"
      },
      "source": [
        "#### 2. Print the numpy version and the configuration (★☆☆)"
      ],
      "id": "c807bf1d"
    },
    {
      "cell_type": "code",
      "execution_count": null,
      "metadata": {
        "colab": {
          "base_uri": "https://localhost:8080/",
          "height": 35
        },
        "id": "f396b717",
        "outputId": "a427bd35-a0d0-4936-8d86-95ee16e9100f"
      },
      "outputs": [
        {
          "data": {
            "application/vnd.google.colaboratory.intrinsic+json": {
              "type": "string"
            },
            "text/plain": [
              "'1.23.5'"
            ]
          },
          "execution_count": 7,
          "metadata": {},
          "output_type": "execute_result"
        }
      ],
      "source": [
        "np.__version__"
      ],
      "id": "f396b717"
    },
    {
      "cell_type": "markdown",
      "metadata": {
        "id": "572c1bdb"
      },
      "source": [
        "#### 3. Create a null vector of size 10 (★☆☆)"
      ],
      "id": "572c1bdb"
    },
    {
      "cell_type": "code",
      "execution_count": null,
      "metadata": {
        "colab": {
          "base_uri": "https://localhost:8080/"
        },
        "id": "31c9f6a5",
        "outputId": "bb5f7b56-3cd8-4554-f5fe-6f65f2288660"
      },
      "outputs": [
        {
          "name": "stdout",
          "output_type": "stream",
          "text": [
            "[0. 0. 0. 0. 0. 0. 0. 0. 0. 0.]\n"
          ]
        }
      ],
      "source": [
        "null_vector = np.zeros(10)\n",
        "\n",
        "print(null_vector)"
      ],
      "id": "31c9f6a5"
    },
    {
      "cell_type": "markdown",
      "metadata": {
        "id": "337e6e36"
      },
      "source": [
        "#### 4. How to find the memory size of any array (★☆☆)"
      ],
      "id": "337e6e36"
    },
    {
      "cell_type": "code",
      "execution_count": null,
      "metadata": {
        "colab": {
          "base_uri": "https://localhost:8080/"
        },
        "id": "31e8ec2e",
        "outputId": "3046d2f0-572a-4a1e-dfea-5ec551fb794b"
      },
      "outputs": [
        {
          "name": "stdout",
          "output_type": "stream",
          "text": [
            "Memory size of the array: 48 bytes\n"
          ]
        }
      ],
      "source": [
        "arr = np.array([1, 2, 3, 4, 5, 6])\n",
        "\n",
        "memory_size = arr.nbytes\n",
        "\n",
        "print(\"Memory size of the array:\", memory_size, \"bytes\")"
      ],
      "id": "31e8ec2e"
    },
    {
      "cell_type": "markdown",
      "metadata": {
        "id": "166079c8"
      },
      "source": [
        "#### 5. How to get the documentation of the numpy add function from the command line? (★☆☆)"
      ],
      "id": "166079c8"
    },
    {
      "cell_type": "code",
      "execution_count": null,
      "metadata": {
        "colab": {
          "base_uri": "https://localhost:8080/"
        },
        "id": "593cd80f",
        "outputId": "f1407184-90c9-457c-8ade-5ddcf5c0e8e0"
      },
      "outputs": [
        {
          "name": "stdout",
          "output_type": "stream",
          "text": [
            "Help on ufunc:\n",
            "\n",
            "add = <ufunc 'add'>\n",
            "    add(x1, x2, /, out=None, *, where=True, casting='same_kind', order='K', dtype=None, subok=True[, signature, extobj])\n",
            "    \n",
            "    Add arguments element-wise.\n",
            "    \n",
            "    Parameters\n",
            "    ----------\n",
            "    x1, x2 : array_like\n",
            "        The arrays to be added.\n",
            "        If ``x1.shape != x2.shape``, they must be broadcastable to a common\n",
            "        shape (which becomes the shape of the output).\n",
            "    out : ndarray, None, or tuple of ndarray and None, optional\n",
            "        A location into which the result is stored. If provided, it must have\n",
            "        a shape that the inputs broadcast to. If not provided or None,\n",
            "        a freshly-allocated array is returned. A tuple (possible only as a\n",
            "        keyword argument) must have length equal to the number of outputs.\n",
            "    where : array_like, optional\n",
            "        This condition is broadcast over the input. At locations where the\n",
            "        condition is True, the `out` array will be set to the ufunc result.\n",
            "        Elsewhere, the `out` array will retain its original value.\n",
            "        Note that if an uninitialized `out` array is created via the default\n",
            "        ``out=None``, locations within it where the condition is False will\n",
            "        remain uninitialized.\n",
            "    **kwargs\n",
            "        For other keyword-only arguments, see the\n",
            "        :ref:`ufunc docs <ufuncs.kwargs>`.\n",
            "    \n",
            "    Returns\n",
            "    -------\n",
            "    add : ndarray or scalar\n",
            "        The sum of `x1` and `x2`, element-wise.\n",
            "        This is a scalar if both `x1` and `x2` are scalars.\n",
            "    \n",
            "    Notes\n",
            "    -----\n",
            "    Equivalent to `x1` + `x2` in terms of array broadcasting.\n",
            "    \n",
            "    Examples\n",
            "    --------\n",
            "    >>> np.add(1.0, 4.0)\n",
            "    5.0\n",
            "    >>> x1 = np.arange(9.0).reshape((3, 3))\n",
            "    >>> x2 = np.arange(3.0)\n",
            "    >>> np.add(x1, x2)\n",
            "    array([[  0.,   2.,   4.],\n",
            "           [  3.,   5.,   7.],\n",
            "           [  6.,   8.,  10.]])\n",
            "    \n",
            "    The ``+`` operator can be used as a shorthand for ``np.add`` on ndarrays.\n",
            "    \n",
            "    >>> x1 = np.arange(9.0).reshape((3, 3))\n",
            "    >>> x2 = np.arange(3.0)\n",
            "    >>> x1 + x2\n",
            "    array([[ 0.,  2.,  4.],\n",
            "           [ 3.,  5.,  7.],\n",
            "           [ 6.,  8., 10.]])\n",
            "\n"
          ]
        }
      ],
      "source": [
        "help(np.add)"
      ],
      "id": "593cd80f"
    },
    {
      "cell_type": "markdown",
      "metadata": {
        "id": "3add7101"
      },
      "source": [
        "#### 6. Create a null vector of size 10 but the fifth value which is 1 (★☆☆)"
      ],
      "id": "3add7101"
    },
    {
      "cell_type": "code",
      "execution_count": null,
      "metadata": {
        "colab": {
          "base_uri": "https://localhost:8080/"
        },
        "id": "2edf3c42",
        "outputId": "67af88af-045b-41e9-ee7c-6b5da2cb8d32"
      },
      "outputs": [
        {
          "name": "stdout",
          "output_type": "stream",
          "text": [
            "[0. 0. 0. 0. 1. 0. 0. 0. 0. 0.]\n"
          ]
        }
      ],
      "source": [
        "import numpy as np\n",
        "\n",
        "null_vector = np.zeros(10)\n",
        "null_vector[4] = 1\n",
        "\n",
        "print(null_vector)"
      ],
      "id": "2edf3c42"
    },
    {
      "cell_type": "markdown",
      "metadata": {
        "id": "cfc46304"
      },
      "source": [
        "#### 7. Create a vector with values ranging from 10 to 49 (★☆☆)"
      ],
      "id": "cfc46304"
    },
    {
      "cell_type": "code",
      "execution_count": null,
      "metadata": {
        "colab": {
          "base_uri": "https://localhost:8080/"
        },
        "id": "d8b86640",
        "outputId": "9da96de7-0110-4e89-90f6-9f21406523a4"
      },
      "outputs": [
        {
          "name": "stdout",
          "output_type": "stream",
          "text": [
            "[10 11 12 13 14 15 16 17 18 19 20 21 22 23 24 25 26 27 28 29 30 31 32 33\n",
            " 34 35 36 37 38 39 40 41 42 43 44 45 46 47 48 49]\n"
          ]
        }
      ],
      "source": [
        "import numpy as np\n",
        "\n",
        "vector = np.arange(10, 50)\n",
        "\n",
        "print(vector)"
      ],
      "id": "d8b86640"
    },
    {
      "cell_type": "markdown",
      "metadata": {
        "id": "0cc200be"
      },
      "source": [
        "#### 8. Reverse a vector (first element becomes last) (★☆☆)"
      ],
      "id": "0cc200be"
    },
    {
      "cell_type": "code",
      "execution_count": null,
      "metadata": {
        "colab": {
          "base_uri": "https://localhost:8080/"
        },
        "id": "ec044bb5",
        "outputId": "8633ecf3-571a-495a-a02a-11eed817b548"
      },
      "outputs": [
        {
          "name": "stdout",
          "output_type": "stream",
          "text": [
            "[5 4 3 2 1]\n"
          ]
        }
      ],
      "source": [
        "import numpy as np\n",
        "\n",
        "# Create a sample vector\n",
        "vector = np.array([1, 2, 3, 4, 5])\n",
        "\n",
        "# Reverse the vector\n",
        "reversed_vector = vector[::-1]\n",
        "\n",
        "print(reversed_vector)"
      ],
      "id": "ec044bb5"
    },
    {
      "cell_type": "markdown",
      "metadata": {
        "id": "29d9ede4"
      },
      "source": [
        "#### 9. Create a 3x3 matrix with values ranging from 0 to 8 (★☆☆)"
      ],
      "id": "29d9ede4"
    },
    {
      "cell_type": "code",
      "execution_count": null,
      "metadata": {
        "colab": {
          "base_uri": "https://localhost:8080/"
        },
        "id": "d9e39043",
        "outputId": "0657df1c-8684-4ae3-db65-cd5c73855149"
      },
      "outputs": [
        {
          "name": "stdout",
          "output_type": "stream",
          "text": [
            "[[0 1 2]\n",
            " [3 4 5]\n",
            " [6 7 8]]\n"
          ]
        }
      ],
      "source": [
        "import numpy as np\n",
        "\n",
        "matrix = np.arange(9).reshape(3, 3)\n",
        "\n",
        "print(matrix)"
      ],
      "id": "d9e39043"
    },
    {
      "cell_type": "markdown",
      "metadata": {
        "id": "88905ceb"
      },
      "source": [
        "#### 10. Find indices of non-zero elements from [1,2,0,0,4,0] (★☆☆)"
      ],
      "id": "88905ceb"
    },
    {
      "cell_type": "code",
      "execution_count": null,
      "metadata": {
        "colab": {
          "base_uri": "https://localhost:8080/"
        },
        "id": "DC9cfYYFvM_D",
        "outputId": "97f27df0-7b22-43bc-c266-c5a6327d69fa"
      },
      "outputs": [
        {
          "name": "stdout",
          "output_type": "stream",
          "text": [
            "(array([0, 1, 4]),)\n"
          ]
        }
      ],
      "source": [
        "import numpy as np\n",
        "\n",
        "array = np.array([1, 2, 0, 0, 4, 0])\n",
        "\n",
        "nonzero_indices = np.nonzero(array)\n",
        "\n",
        "print(nonzero_indices)"
      ],
      "id": "DC9cfYYFvM_D"
    },
    {
      "cell_type": "markdown",
      "metadata": {
        "id": "49603e91"
      },
      "source": [
        "#### 11. Create a 3x3 identity matrix (★☆☆)"
      ],
      "id": "49603e91"
    },
    {
      "cell_type": "code",
      "execution_count": null,
      "metadata": {
        "colab": {
          "base_uri": "https://localhost:8080/"
        },
        "id": "5b607b5c",
        "outputId": "1ea79754-f13b-4bec-b6b2-0198c13053c2"
      },
      "outputs": [
        {
          "name": "stdout",
          "output_type": "stream",
          "text": [
            "[[1. 0. 0.]\n",
            " [0. 1. 0.]\n",
            " [0. 0. 1.]]\n"
          ]
        }
      ],
      "source": [
        "import numpy as np\n",
        "\n",
        "identity_matrix = np.eye(3)\n",
        "\n",
        "print(identity_matrix)"
      ],
      "id": "5b607b5c"
    },
    {
      "cell_type": "markdown",
      "metadata": {
        "id": "e15c249a"
      },
      "source": [
        "#### 12. Create a 3x3x3 array with random values (★☆☆)"
      ],
      "id": "e15c249a"
    },
    {
      "cell_type": "code",
      "execution_count": null,
      "metadata": {
        "colab": {
          "base_uri": "https://localhost:8080/"
        },
        "id": "ab21ed50",
        "outputId": "e99fddbe-3cec-4631-c9e7-10baf28877b1"
      },
      "outputs": [
        {
          "name": "stdout",
          "output_type": "stream",
          "text": [
            "[[[0.33685097 0.38328571 0.2590761 ]\n",
            "  [0.51432965 0.59967643 0.79150848]\n",
            "  [0.25934041 0.49574577 0.35743864]]\n",
            "\n",
            " [[0.69919131 0.0256157  0.16191436]\n",
            "  [0.80412112 0.97876875 0.37607066]\n",
            "  [0.78070168 0.5510675  0.88302746]]\n",
            "\n",
            " [[0.33801126 0.7594463  0.39057047]\n",
            "  [0.66363843 0.44163191 0.65493829]\n",
            "  [0.44770285 0.18154123 0.33957654]]]\n"
          ]
        }
      ],
      "source": [
        "import numpy as np\n",
        "\n",
        "random_array = np.random.rand(3, 3, 3)\n",
        "\n",
        "print(random_array)"
      ],
      "id": "ab21ed50"
    },
    {
      "cell_type": "markdown",
      "metadata": {
        "id": "157a129c"
      },
      "source": [
        "#### 13. Create a 10x10 array with random values and find the minimum and maximum values (★☆☆)"
      ],
      "id": "157a129c"
    },
    {
      "cell_type": "code",
      "execution_count": null,
      "metadata": {
        "colab": {
          "base_uri": "https://localhost:8080/"
        },
        "id": "c0066de5",
        "outputId": "f1ad9b9f-6058-4ba9-f12b-792f6b5abce8"
      },
      "outputs": [
        {
          "name": "stdout",
          "output_type": "stream",
          "text": [
            "Minimum value: 0.007540470661734799\n",
            "Maximum value: 0.9917273151564303\n"
          ]
        }
      ],
      "source": [
        "import numpy as np\n",
        "\n",
        "# Create a 10x10 array with random values between 0 and 1\n",
        "random_array = np.random.rand(10, 10)\n",
        "\n",
        "# Find the minimum and maximum values\n",
        "min_value = np.min(random_array)\n",
        "max_value = np.max(random_array)\n",
        "\n",
        "print(\"Minimum value:\", min_value)\n",
        "print(\"Maximum value:\", max_value)"
      ],
      "id": "c0066de5"
    },
    {
      "cell_type": "markdown",
      "metadata": {
        "id": "d92d7b32"
      },
      "source": [
        "#### 14. Create a random vector of size 30 and find the mean value (★☆☆)"
      ],
      "id": "d92d7b32"
    },
    {
      "cell_type": "code",
      "execution_count": null,
      "metadata": {
        "colab": {
          "base_uri": "https://localhost:8080/"
        },
        "id": "9672d023",
        "outputId": "0d26137f-8fa6-4a42-f91a-a7db7c2b7519"
      },
      "outputs": [
        {
          "name": "stdout",
          "output_type": "stream",
          "text": [
            "Mean value: 0.5275055268377998\n"
          ]
        }
      ],
      "source": [
        "import numpy as np\n",
        "\n",
        "# Create a random vector of size 30\n",
        "random_vector = np.random.rand(30)\n",
        "\n",
        "# Find the mean value\n",
        "mean_value = np.mean(random_vector)\n",
        "\n",
        "print(\"Mean value:\", mean_value)"
      ],
      "id": "9672d023"
    },
    {
      "cell_type": "markdown",
      "metadata": {
        "id": "f361efc0"
      },
      "source": [
        "#### 15. Create a 2d array with 1 on the border and 0 inside (★☆☆)"
      ],
      "id": "f361efc0"
    },
    {
      "cell_type": "code",
      "execution_count": null,
      "metadata": {
        "colab": {
          "base_uri": "https://localhost:8080/"
        },
        "id": "WV2lHJMBxDnn",
        "outputId": "92bb7a82-82d4-4792-af6a-e215de5445ed"
      },
      "outputs": [
        {
          "name": "stdout",
          "output_type": "stream",
          "text": [
            "[[1. 1. 1. 1. 1.]\n",
            " [1. 0. 0. 0. 1.]\n",
            " [1. 0. 0. 0. 1.]\n",
            " [1. 0. 0. 0. 1.]\n",
            " [1. 1. 1. 1. 1.]]\n"
          ]
        }
      ],
      "source": [
        "import numpy as np\n",
        "\n",
        "# Define the dimensions of the array\n",
        "rows = 5  # Number of rows\n",
        "cols = 5  # Number of columns\n",
        "\n",
        "# Create a 2D array with 1 on the border and 0 inside\n",
        "array = np.ones((rows, cols))\n",
        "array[1:-1, 1:-1] = 0  # Set the interior elements to 0\n",
        "\n",
        "print(array)"
      ],
      "id": "WV2lHJMBxDnn"
    },
    {
      "cell_type": "markdown",
      "metadata": {
        "id": "475808cb"
      },
      "source": [
        "#### 16. How to add a border (filled with 0's) around an existing array? (★☆☆)"
      ],
      "id": "475808cb"
    },
    {
      "cell_type": "code",
      "execution_count": null,
      "metadata": {
        "colab": {
          "base_uri": "https://localhost:8080/"
        },
        "id": "b2df3a8a",
        "outputId": "8d68bd4e-96a7-4ed8-af3e-5ec6b7b88c28"
      },
      "outputs": [
        {
          "name": "stdout",
          "output_type": "stream",
          "text": [
            "[[0. 0. 0. 0. 0.]\n",
            " [0. 1. 2. 3. 0.]\n",
            " [0. 4. 5. 6. 0.]\n",
            " [0. 7. 8. 9. 0.]\n",
            " [0. 0. 0. 0. 0.]]\n"
          ]
        }
      ],
      "source": [
        "import numpy as np\n",
        "\n",
        "# Create an existing array (example)\n",
        "existing_array = np.array([[1, 2, 3],\n",
        "                           [4, 5, 6],\n",
        "                           [7, 8, 9]])\n",
        "\n",
        "# Determine the shape of the new array with the border\n",
        "new_shape = (existing_array.shape[0] + 2, existing_array.shape[1] + 2)\n",
        "\n",
        "# Create a new array filled with 0s\n",
        "new_array = np.zeros(new_shape)\n",
        "\n",
        "# Place the existing array inside the new array\n",
        "new_array[1:-1, 1:-1] = existing_array\n",
        "\n",
        "print(new_array)"
      ],
      "id": "b2df3a8a"
    },
    {
      "cell_type": "markdown",
      "metadata": {
        "id": "1af07d85"
      },
      "source": [
        "#### 17. What is the result of the following expression? (★☆☆)\n",
        "```python\n",
        "0 * np.nan\n",
        "np.nan == np.nan\n",
        "np.inf > np.nan\n",
        "np.nan - np.nan\n",
        "np.nan in set([np.nan])\n",
        "0.3 == 3 * 0.1\n",
        "```"
      ],
      "id": "1af07d85"
    },
    {
      "cell_type": "code",
      "execution_count": null,
      "metadata": {
        "colab": {
          "base_uri": "https://localhost:8080/"
        },
        "id": "109cf327",
        "outputId": "34e045c9-e180-4900-cb05-7541160cc3a8"
      },
      "outputs": [
        {
          "name": "stdout",
          "output_type": "stream",
          "text": [
            "Result 1: nan\n",
            "Result 2: False\n",
            "Result 3: False\n",
            "Result 4: nan\n",
            "Result 5: True\n",
            "Result 6: False\n"
          ]
        }
      ],
      "source": [
        "import numpy as np\n",
        "\n",
        "result_1 = 0 * np.nan\n",
        "result_2 = np.nan == np.nan\n",
        "result_3 = np.inf > np.nan\n",
        "result_4 = np.nan - np.nan\n",
        "result_5 = np.nan in set([np.nan])\n",
        "result_6 = 0.3 == 3 * 0.1\n",
        "\n",
        "print(\"Result 1:\", result_1)\n",
        "print(\"Result 2:\", result_2)\n",
        "print(\"Result 3:\", result_3)\n",
        "print(\"Result 4:\", result_4)\n",
        "print(\"Result 5:\", result_5)\n",
        "print(\"Result 6:\", result_6)"
      ],
      "id": "109cf327"
    },
    {
      "cell_type": "markdown",
      "metadata": {
        "id": "6a235316"
      },
      "source": [
        "#### 18. Create a 5x5 matrix with values 1,2,3,4 just below the diagonal (★☆☆)"
      ],
      "id": "6a235316"
    },
    {
      "cell_type": "code",
      "execution_count": null,
      "metadata": {
        "colab": {
          "base_uri": "https://localhost:8080/"
        },
        "id": "f2e6cfa6",
        "outputId": "ec281c6f-5663-409f-9b66-6e70e31a9427"
      },
      "outputs": [
        {
          "name": "stdout",
          "output_type": "stream",
          "text": [
            "[[0. 0. 0. 0. 0.]\n",
            " [1. 0. 0. 0. 0.]\n",
            " [0. 2. 0. 0. 0.]\n",
            " [0. 0. 3. 0. 0.]\n",
            " [0. 0. 0. 4. 0.]]\n"
          ]
        }
      ],
      "source": [
        "import numpy as np\n",
        "\n",
        "# Create a 5x5 matrix\n",
        "matrix = np.zeros((5, 5))\n",
        "\n",
        "# Set values 1, 2, 3, and 4 just below the diagonal\n",
        "for i in range(1, 5):\n",
        "    matrix[i, i - 1] = i\n",
        "\n",
        "print(matrix)"
      ],
      "id": "f2e6cfa6"
    },
    {
      "cell_type": "markdown",
      "metadata": {
        "id": "25362e98"
      },
      "source": [
        "#### 19. Create a 8x8 matrix and fill it with a checkerboard pattern (★☆☆)"
      ],
      "id": "25362e98"
    },
    {
      "cell_type": "code",
      "execution_count": null,
      "metadata": {
        "colab": {
          "base_uri": "https://localhost:8080/"
        },
        "id": "cabdf298",
        "outputId": "8e0b4166-aaf7-4f45-ad93-6995cd65c4fd"
      },
      "outputs": [
        {
          "name": "stdout",
          "output_type": "stream",
          "text": [
            "[[1 0 1 0 1 0 1 0]\n",
            " [0 1 0 1 0 1 0 1]\n",
            " [1 0 1 0 1 0 1 0]\n",
            " [0 1 0 1 0 1 0 1]\n",
            " [1 0 1 0 1 0 1 0]\n",
            " [0 1 0 1 0 1 0 1]\n",
            " [1 0 1 0 1 0 1 0]\n",
            " [0 1 0 1 0 1 0 1]]\n"
          ]
        }
      ],
      "source": [
        "\n",
        "import numpy as np\n",
        "\n",
        "# Create an 8x8 matrix filled with zeros\n",
        "matrix = np.zeros((8, 8), dtype=int)\n",
        "\n",
        "# Fill the even rows and columns with 1\n",
        "matrix[::2, ::2] = 1\n",
        "matrix[1::2, 1::2] = 1\n",
        "\n",
        "print(matrix)"
      ],
      "id": "cabdf298"
    },
    {
      "cell_type": "markdown",
      "metadata": {
        "id": "6431e977"
      },
      "source": [
        "#### 20. Consider a (6,7,8) shape array, what is the index (x,y,z) of the 100th element? (★☆☆)"
      ],
      "id": "6431e977"
    },
    {
      "cell_type": "code",
      "execution_count": null,
      "metadata": {
        "colab": {
          "base_uri": "https://localhost:8080/"
        },
        "id": "de8b0245",
        "outputId": "c9ecda67-a566-4fac-9d6d-f1a96857c8ff"
      },
      "outputs": [
        {
          "name": "stdout",
          "output_type": "stream",
          "text": [
            "The index (x, y, z) of the 100th element is (4, 5, 1)\n"
          ]
        }
      ],
      "source": [
        "import numpy as np\n",
        "\n",
        "shape = (6, 7, 8)\n",
        "index = 100\n",
        "\n",
        "z = index // (shape[1] * shape[2])\n",
        "remainder = index % (shape[1] * shape[2])\n",
        "y = remainder // shape[2]\n",
        "x = remainder % shape[2]\n",
        "\n",
        "print(f\"The index (x, y, z) of the 100th element is ({x}, {y}, {z})\")"
      ],
      "id": "de8b0245"
    },
    {
      "cell_type": "markdown",
      "metadata": {
        "id": "31abe6fe"
      },
      "source": [
        "#### 21. Create a checkerboard 8x8 matrix using the tile function (★☆☆)"
      ],
      "id": "31abe6fe"
    },
    {
      "cell_type": "code",
      "execution_count": null,
      "metadata": {
        "colab": {
          "base_uri": "https://localhost:8080/"
        },
        "id": "6da26fd3",
        "outputId": "f38f308c-3533-4b43-8899-7323be13e7ff"
      },
      "outputs": [
        {
          "name": "stdout",
          "output_type": "stream",
          "text": [
            "[[0 1 0 1 0 1 0 1]\n",
            " [1 0 1 0 1 0 1 0]\n",
            " [0 1 0 1 0 1 0 1]\n",
            " [1 0 1 0 1 0 1 0]\n",
            " [0 1 0 1 0 1 0 1]\n",
            " [1 0 1 0 1 0 1 0]\n",
            " [0 1 0 1 0 1 0 1]\n",
            " [1 0 1 0 1 0 1 0]]\n"
          ]
        }
      ],
      "source": [
        "import numpy as np\n",
        "\n",
        "# Define a single checkerboard unit\n",
        "unit = np.array([[0, 1], [1, 0]])\n",
        "\n",
        "# Use tile to create the 8x8 checkerboard matrix\n",
        "checkerboard = np.tile(unit, (4, 4))\n",
        "\n",
        "print(checkerboard)"
      ],
      "id": "6da26fd3"
    },
    {
      "cell_type": "code",
      "source": [
        "Z = np.tile(np.array([["
      ],
      "metadata": {
        "id": "nd10UxOc1AUP"
      },
      "id": "nd10UxOc1AUP",
      "execution_count": null,
      "outputs": []
    },
    {
      "cell_type": "markdown",
      "metadata": {
        "id": "fd88b3f4"
      },
      "source": [
        "#### 22. Normalize a 5x5 random matrix (★☆☆)"
      ],
      "id": "fd88b3f4"
    },
    {
      "cell_type": "code",
      "execution_count": null,
      "metadata": {
        "colab": {
          "base_uri": "https://localhost:8080/"
        },
        "id": "ee6ced60",
        "outputId": "a2732b34-54ca-4c34-e2a8-c58488179b4c"
      },
      "outputs": [
        {
          "name": "stdout",
          "output_type": "stream",
          "text": [
            "Original Matrix:\n",
            "[[0.52887076 0.73835182 0.55500704 0.974785   0.55966603]\n",
            " [0.22142153 0.98456471 0.65283141 0.07583803 0.82113365]\n",
            " [0.08435599 0.35315749 0.65240393 0.24844133 0.61984787]\n",
            " [0.3342476  0.43803223 0.13435783 0.30849999 0.72223439]\n",
            " [0.06850226 0.02423435 0.8592427  0.23005879 0.42365677]]\n",
            "\n",
            "Normalized Matrix:\n",
            "[[0.5254821  0.74361646 0.55269802 0.98981631 0.55754947]\n",
            " [0.20533265 1.         0.65456336 0.05373534 0.82981788]\n",
            " [0.06260516 0.3425104  0.65411821 0.23346859 0.62021731]\n",
            " [0.32281938 0.43089117 0.1146725  0.29600818 0.72683325]\n",
            " [0.04609655 0.         0.86950115 0.2143267  0.41592189]]\n"
          ]
        }
      ],
      "source": [
        "import numpy as np\n",
        "\n",
        "# Create a 5x5 random matrix\n",
        "matrix = np.random.random((5, 5))\n",
        "\n",
        "# Find the minimum and maximum values in the matrix\n",
        "min_val = np.min(matrix)\n",
        "max_val = np.max(matrix)\n",
        "\n",
        "# Normalize the matrix to values between 0 and 1\n",
        "normalized_matrix = (matrix - min_val) / (max_val - min_val)\n",
        "\n",
        "print(\"Original Matrix:\")\n",
        "print(matrix)\n",
        "print(\"\\nNormalized Matrix:\")\n",
        "print(normalized_matrix)"
      ],
      "id": "ee6ced60"
    },
    {
      "cell_type": "markdown",
      "metadata": {
        "id": "464d8590"
      },
      "source": [
        "#### 23. Create a custom dtype that describes a color as four unsigned bytes (RGBA) (★☆☆)"
      ],
      "id": "464d8590"
    },
    {
      "cell_type": "code",
      "execution_count": null,
      "metadata": {
        "colab": {
          "base_uri": "https://localhost:8080/"
        },
        "id": "e2f9cfc6",
        "outputId": "49ebd391-ab4f-437c-c56f-adc6b6b70e80"
      },
      "outputs": [
        {
          "name": "stdout",
          "output_type": "stream",
          "text": [
            "[(255,   0, 0, 255) (  0, 255, 0, 128)]\n"
          ]
        }
      ],
      "source": [
        "import numpy as np\n",
        "\n",
        "# Create a custom dtype for RGBA color representation\n",
        "color_dtype = np.dtype([('R', np.ubyte), ('G', np.ubyte), ('B', np.ubyte), ('A', np.ubyte)])\n",
        "\n",
        "# Create an array using the custom dtype to represent colors\n",
        "colors = np.array([(255, 0, 0, 255),  # Example: Red with full opacity\n",
        "                  (0, 255, 0, 128)], # Example: Green with 50% opacity\n",
        "                  dtype=color_dtype)\n",
        "\n",
        "print(colors)"
      ],
      "id": "e2f9cfc6"
    },
    {
      "cell_type": "markdown",
      "metadata": {
        "id": "06c63bb3"
      },
      "source": [
        "#### 24. Multiply a 5x3 matrix by a 3x2 matrix (real matrix product) (★☆☆)"
      ],
      "id": "06c63bb3"
    },
    {
      "cell_type": "code",
      "execution_count": null,
      "metadata": {
        "colab": {
          "base_uri": "https://localhost:8080/"
        },
        "id": "9fc0d553",
        "outputId": "e7ac6094-e05f-4540-f560-1a5a68a869e9"
      },
      "outputs": [
        {
          "name": "stdout",
          "output_type": "stream",
          "text": [
            "5x3 Matrix:\n",
            "[[0.88679146 0.30422161 0.32177558]\n",
            " [0.0429332  0.98581002 0.71455696]\n",
            " [0.6914741  0.94688354 0.81162893]\n",
            " [0.49090917 0.53159169 0.16832201]\n",
            " [0.00977157 0.34809475 0.61505448]]\n",
            "\n",
            "3x2 Matrix:\n",
            "[[0.88837275 0.16173514]\n",
            " [0.79612586 0.9871867 ]\n",
            " [0.94381666 0.21222654]]\n",
            "\n",
            "Result of multiplying the matrices (5x3 * 3x2):\n",
            "[[1.33369722 0.51203819]\n",
            " [1.49738031 1.1317703 ]\n",
            " [2.13415414 1.2188357 ]\n",
            " [1.01818934 0.63989991]\n",
            " [0.8663067  0.4757458 ]]\n"
          ]
        }
      ],
      "source": [
        "import numpy as np\n",
        "\n",
        "# Creating the matrices\n",
        "matrix_5x3 = np.random.rand(5, 3)\n",
        "matrix_3x2 = np.random.rand(3, 2)\n",
        "\n",
        "# Perform matrix multiplication\n",
        "result_matrix = np.dot(matrix_5x3, matrix_3x2)\n",
        "\n",
        "print(\"5x3 Matrix:\")\n",
        "print(matrix_5x3)\n",
        "print(\"\\n3x2 Matrix:\")\n",
        "print(matrix_3x2)\n",
        "print(\"\\nResult of multiplying the matrices (5x3 * 3x2):\")\n",
        "print(result_matrix)"
      ],
      "id": "9fc0d553"
    },
    {
      "cell_type": "markdown",
      "metadata": {
        "id": "76fa6285"
      },
      "source": [
        "#### 25. Given a 1D array, negate all elements which are between 3 and 8, in place. (★☆☆)"
      ],
      "id": "76fa6285"
    },
    {
      "cell_type": "code",
      "execution_count": null,
      "metadata": {
        "colab": {
          "base_uri": "https://localhost:8080/"
        },
        "id": "qBO9S67b799I",
        "outputId": "f6e4c263-9ca3-4124-9a22-0afc8d682285"
      },
      "outputs": [
        {
          "name": "stdout",
          "output_type": "stream",
          "text": [
            "Modified Array:\n",
            "[ 1 -4 -6  9  2 -7 -5  3  8]\n"
          ]
        }
      ],
      "source": [
        "import numpy as np\n",
        "\n",
        "# Create a 1D array\n",
        "array = np.array([1, 4, 6, 9, 2, 7, 5, 3, 8])\n",
        "\n",
        "# Negate elements between 3 and 8 in place\n",
        "array[(array > 3) & (array < 8)] *= -1\n",
        "\n",
        "print(\"Modified Array:\")\n",
        "print(array)"
      ],
      "id": "qBO9S67b799I"
    },
    {
      "cell_type": "markdown",
      "metadata": {
        "id": "930ed8bb"
      },
      "source": [
        "#### 26. What is the output of the following script? (★☆☆)\n",
        "```python\n",
        "# Author: Jake VanderPlas\n",
        "\n",
        "print(sum(range(5),-1))\n",
        "from numpy import *\n",
        "print(sum(range(5),-1))\n",
        "```"
      ],
      "id": "930ed8bb"
    },
    {
      "cell_type": "code",
      "execution_count": null,
      "metadata": {
        "colab": {
          "base_uri": "https://localhost:8080/"
        },
        "id": "f02eedba",
        "outputId": "58d71886-8d93-49e0-e416-3ffaf4f9b7b5"
      },
      "outputs": [
        {
          "name": "stdout",
          "output_type": "stream",
          "text": [
            "9\n",
            "10\n"
          ]
        }
      ],
      "source": [
        "print(sum(range(5),-1))\n",
        "from numpy import *\n",
        "print(sum(range(5),-1))"
      ],
      "id": "f02eedba"
    },
    {
      "cell_type": "markdown",
      "metadata": {
        "id": "177120e7"
      },
      "source": [
        "#### 27. Consider an integer vector Z, which of these expressions are legal? (★☆☆)\n",
        "```python\n",
        "Z**Z\n",
        "2 << Z >> 2\n",
        "Z <- Z\n",
        "1j*Z\n",
        "Z/1/1\n",
        "Z<Z>Z\n",
        "```"
      ],
      "id": "177120e7"
    },
    {
      "cell_type": "code",
      "execution_count": null,
      "metadata": {
        "colab": {
          "base_uri": "https://localhost:8080/"
        },
        "id": "86d6cbef",
        "outputId": "57625332-d536-4af5-f16d-bbb39ea710ef"
      },
      "outputs": [
        {
          "name": "stdout",
          "output_type": "stream",
          "text": [
            "Expression 'Z**Z' is legal.\n",
            "Expression '2 << Z >> 2' is legal.\n",
            "Expression 'Z <- Z' is legal.\n",
            "Expression '1j*Z' is legal.\n",
            "Expression 'Z/1/1' is legal.\n",
            "Expression 'Z<Z>Z' is illegal.\n"
          ]
        }
      ],
      "source": [
        "import numpy as np\n",
        "\n",
        "# Example integer vector Z\n",
        "Z = np.array([1, 2, 3, 4, 5])\n",
        "\n",
        "# Evaluate the expressions\n",
        "expressions = [\n",
        "    \"Z**Z\",\n",
        "    \"2 << Z >> 2\",\n",
        "    \"Z <- Z\",\n",
        "    \"1j*Z\",\n",
        "    \"Z/1/1\",\n",
        "    \"Z<Z>Z\"\n",
        "]\n",
        "\n",
        "for expr in expressions:\n",
        "    try:\n",
        "        result = eval(expr)\n",
        "        print(f\"Expression '{expr}' is legal.\")\n",
        "    except:\n",
        "        print(f\"Expression '{expr}' is illegal.\")"
      ],
      "id": "86d6cbef"
    },
    {
      "cell_type": "markdown",
      "metadata": {
        "id": "a6eaf0e8"
      },
      "source": [
        "#### 28. What are the result of the following expressions? (★☆☆)\n",
        "```python\n",
        "np.array(0) / np.array(0)\n",
        "np.array(0) // np.array(0)\n",
        "np.array([np.nan]).astype(int).astype(float)\n",
        "```"
      ],
      "id": "a6eaf0e8"
    },
    {
      "cell_type": "code",
      "execution_count": null,
      "metadata": {
        "colab": {
          "base_uri": "https://localhost:8080/"
        },
        "id": "93684068",
        "outputId": "4032d2f1-f755-458b-961c-3e96b1a42671"
      },
      "outputs": [
        {
          "name": "stdout",
          "output_type": "stream",
          "text": [
            "Result 1: nan\n",
            "Result 2: 0\n",
            "Result 3: [-9.22337204e+18]\n"
          ]
        },
        {
          "name": "stderr",
          "output_type": "stream",
          "text": [
            "<ipython-input-12-56359942a9ab>:4: RuntimeWarning: invalid value encountered in divide\n",
            "  result_1 = np.array(0) / np.array(0)\n",
            "<ipython-input-12-56359942a9ab>:5: RuntimeWarning: divide by zero encountered in floor_divide\n",
            "  result_2 = np.array(0) // np.array(0)\n"
          ]
        }
      ],
      "source": [
        "import numpy as np\n",
        "\n",
        "# Expressions\n",
        "result_1 = np.array(0) / np.array(0)\n",
        "result_2 = np.array(0) // np.array(0)\n",
        "result_3 = np.array([np.nan]).astype(int).astype(float)\n",
        "\n",
        "print(\"Result 1:\", result_1)\n",
        "print(\"Result 2:\", result_2)\n",
        "print(\"Result 3:\", result_3)"
      ],
      "id": "93684068"
    },
    {
      "cell_type": "markdown",
      "metadata": {
        "id": "524b65f8"
      },
      "source": [
        "#### 29. How to round away from zero a float array ? (★☆☆)"
      ],
      "id": "524b65f8"
    },
    {
      "cell_type": "code",
      "execution_count": null,
      "metadata": {
        "colab": {
          "base_uri": "https://localhost:8080/"
        },
        "id": "61fbb78e",
        "outputId": "9471d41f-f770-43e6-814c-7ed5ba04f8f4"
      },
      "outputs": [
        {
          "name": "stdout",
          "output_type": "stream",
          "text": [
            "Original Float Array:\n",
            "[-1.5  1.5 -3.8  3.8  0.  -0.7  0.7]\n",
            "\n",
            "Rounded Away from Zero:\n",
            "[-2.  2. -4.  4.  0. -1.  1.]\n"
          ]
        }
      ],
      "source": [
        "import numpy as np\n",
        "\n",
        "# Sample float array\n",
        "float_array = np.array([-1.5, 1.5, -3.8, 3.8, 0.0, -0.7, 0.7])\n",
        "\n",
        "# Round away from zero using ceil for positive values and floor for negative values\n",
        "rounded_array = np.where(float_array >= 0, np.ceil(float_array), np.floor(float_array))\n",
        "\n",
        "print(\"Original Float Array:\")\n",
        "print(float_array)\n",
        "print(\"\\nRounded Away from Zero:\")\n",
        "print(rounded_array)"
      ],
      "id": "61fbb78e"
    },
    {
      "cell_type": "markdown",
      "metadata": {
        "id": "8dc40752"
      },
      "source": [
        "#### 30. How to find common values between two arrays? (★☆☆)"
      ],
      "id": "8dc40752"
    },
    {
      "cell_type": "code",
      "execution_count": null,
      "metadata": {
        "colab": {
          "base_uri": "https://localhost:8080/"
        },
        "id": "54399cbe",
        "outputId": "ca94af18-8f78-4bb3-be8f-d679c5e76b91"
      },
      "outputs": [
        {
          "name": "stdout",
          "output_type": "stream",
          "text": [
            "Array 1: [1 2 3 4 5]\n",
            "Array 2: [3 4 5 6 7]\n",
            "Common values: [3 4 5]\n"
          ]
        }
      ],
      "source": [
        "import numpy as np\n",
        "\n",
        "# Two arrays\n",
        "array1 = np.array([1, 2, 3, 4, 5])\n",
        "array2 = np.array([3, 4, 5, 6, 7])\n",
        "\n",
        "# Finding common values between the arrays\n",
        "common_values = np.intersect1d(array1, array2)\n",
        "\n",
        "print(\"Array 1:\", array1)\n",
        "print(\"Array 2:\", array2)\n",
        "print(\"Common values:\", common_values)"
      ],
      "id": "54399cbe"
    },
    {
      "cell_type": "markdown",
      "metadata": {
        "id": "b7f38e21"
      },
      "source": [
        "#### 31. How to ignore all numpy warnings (not recommended)? (★☆☆)"
      ],
      "id": "b7f38e21"
    },
    {
      "cell_type": "code",
      "execution_count": null,
      "metadata": {
        "colab": {
          "base_uri": "https://localhost:8080/"
        },
        "id": "2ca3289c",
        "outputId": "a44a346c-f1f5-43e9-f144-d59406de2960"
      },
      "outputs": [
        {
          "name": "stdout",
          "output_type": "stream",
          "text": [
            "Result: [ inf 0.   0.75]\n"
          ]
        }
      ],
      "source": [
        "import numpy as np\n",
        "\n",
        "# Sample arrays generating a warning\n",
        "array1 = np.array([1, 0, 3])\n",
        "array2 = np.array([0, 2, 4])\n",
        "\n",
        "# Ignoring warnings\n",
        "np.seterr(all='ignore')\n",
        "\n",
        "# Performing an operation that generates a warning\n",
        "result = array1 / array2\n",
        "\n",
        "# Revert back to default warning settings\n",
        "np.seterr(all='raise')\n",
        "\n",
        "print(\"Result:\", result)"
      ],
      "id": "2ca3289c"
    },
    {
      "cell_type": "markdown",
      "metadata": {
        "id": "2d850aab"
      },
      "source": [
        "#### 32. Is the following expressions true? (★☆☆)\n",
        "```python\n",
        "np.sqrt(-1) == np.emath.sqrt(-1)\n",
        "```"
      ],
      "id": "2d850aab"
    },
    {
      "cell_type": "code",
      "execution_count": null,
      "metadata": {
        "colab": {
          "background_save": true,
          "base_uri": "https://localhost:8080/",
          "height": 379
        },
        "id": "5c83ffce",
        "outputId": "ed74db4f-53ff-4f3b-cae8-fd4250638ae9"
      },
      "outputs": [
        {
          "name": "stdout",
          "output_type": "stream",
          "text": [
            "True\n"
          ]
        }
      ],
      "source": [
        "import numpy as np\n",
        "\n",
        "tolerance = 1e-10  # Define a tolerance for comparison\n",
        "\n",
        "result = np.isclose(np.sqrt(-1), np.emath.sqrt(-1), rtol=tolerance)\n",
        "print(result)"
      ],
      "id": "5c83ffce"
    },
    {
      "cell_type": "markdown",
      "metadata": {
        "id": "5c4a556f"
      },
      "source": [
        "#### 33. How to get the dates of yesterday, today and tomorrow? (★☆☆)"
      ],
      "id": "5c4a556f"
    },
    {
      "cell_type": "code",
      "execution_count": null,
      "metadata": {
        "id": "c3b683a0",
        "colab": {
          "base_uri": "https://localhost:8080/"
        },
        "outputId": "3f1dfa07-e103-428a-ab44-b4abca931d89"
      },
      "outputs": [
        {
          "output_type": "stream",
          "name": "stdout",
          "text": [
            "Yesterday: 2023-11-12\n",
            "Today: 2023-11-13\n",
            "Tomorrow: 2023-11-14\n"
          ]
        }
      ],
      "source": [
        "from datetime import datetime, timedelta\n",
        "\n",
        "# Get today's date\n",
        "today = datetime.today().date()\n",
        "\n",
        "# Get yesterday's date by subtracting one day from today\n",
        "yesterday = today - timedelta(days=1)\n",
        "\n",
        "# Get tomorrow's date by adding one day to today\n",
        "tomorrow = today + timedelta(days=1)\n",
        "\n",
        "print(\"Yesterday:\", yesterday)\n",
        "print(\"Today:\", today)\n",
        "print(\"Tomorrow:\", tomorrow)"
      ],
      "id": "c3b683a0"
    },
    {
      "cell_type": "markdown",
      "metadata": {
        "id": "453cdd64"
      },
      "source": [
        "#### 34. How to get all the dates corresponding to the month of July 2016? (★★☆)"
      ],
      "id": "453cdd64"
    },
    {
      "cell_type": "code",
      "source": [
        "from datetime import datetime, timedelta\n",
        "\n",
        "# Set the start date for July 2016\n",
        "start_date = datetime(2016, 7, 1)\n",
        "\n",
        "# Get the number of days in July\n",
        "days_in_july = 31  # July has 31 days\n",
        "\n",
        "# Generate all dates for July 2016\n",
        "dates_july_2016 = [start_date + timedelta(days=x) for x in range(days_in_july)]\n",
        "\n",
        "print(\"Dates for July 2016:\")\n",
        "for date in dates_july_2016:\n",
        "    print(date.date())"
      ],
      "metadata": {
        "colab": {
          "base_uri": "https://localhost:8080/"
        },
        "id": "4CDUD-IRCceM",
        "outputId": "d804c82c-52d5-4036-8ab8-d458f783d65c"
      },
      "id": "4CDUD-IRCceM",
      "execution_count": null,
      "outputs": [
        {
          "output_type": "stream",
          "name": "stdout",
          "text": [
            "Dates for July 2016:\n",
            "2016-07-01\n",
            "2016-07-02\n",
            "2016-07-03\n",
            "2016-07-04\n",
            "2016-07-05\n",
            "2016-07-06\n",
            "2016-07-07\n",
            "2016-07-08\n",
            "2016-07-09\n",
            "2016-07-10\n",
            "2016-07-11\n",
            "2016-07-12\n",
            "2016-07-13\n",
            "2016-07-14\n",
            "2016-07-15\n",
            "2016-07-16\n",
            "2016-07-17\n",
            "2016-07-18\n",
            "2016-07-19\n",
            "2016-07-20\n",
            "2016-07-21\n",
            "2016-07-22\n",
            "2016-07-23\n",
            "2016-07-24\n",
            "2016-07-25\n",
            "2016-07-26\n",
            "2016-07-27\n",
            "2016-07-28\n",
            "2016-07-29\n",
            "2016-07-30\n",
            "2016-07-31\n"
          ]
        }
      ]
    },
    {
      "cell_type": "markdown",
      "metadata": {
        "id": "52667b6e"
      },
      "source": [
        "#### 35. How to compute ((A+B)*(-A/2)) in place (without copy)? (★★☆)"
      ],
      "id": "52667b6e"
    },
    {
      "cell_type": "code",
      "execution_count": null,
      "metadata": {
        "id": "4ba4d37c",
        "colab": {
          "base_uri": "https://localhost:8080/"
        },
        "outputId": "7b1fb456-02fc-4c26-c198-a44e784a8b59"
      },
      "outputs": [
        {
          "output_type": "stream",
          "name": "stdout",
          "text": [
            "Result of ((A+B)*(-A/2)): [-12.5 -24.5 -40.5]\n"
          ]
        }
      ],
      "source": [
        "import numpy as np\n",
        "\n",
        "# Define arrays A and B with a floating-point type\n",
        "A = np.array([1.0, 2.0, 3.0])\n",
        "B = np.array([4.0, 5.0, 6.0])\n",
        "\n",
        "# Perform the operation ((A+B)*(-A/2)) in place\n",
        "A += B\n",
        "A *= -A / 2\n",
        "\n",
        "print(\"Result of ((A+B)*(-A/2)):\", A)"
      ],
      "id": "4ba4d37c"
    },
    {
      "cell_type": "markdown",
      "metadata": {
        "id": "9a8f3738"
      },
      "source": [
        "#### 36. Extract the integer part of a random array of positive numbers using 4 different methods (★★☆)"
      ],
      "id": "9a8f3738"
    },
    {
      "cell_type": "code",
      "execution_count": null,
      "metadata": {
        "id": "e6e7c030",
        "colab": {
          "base_uri": "https://localhost:8080/"
        },
        "outputId": "a62510ed-f746-40c6-a66e-3ddc5af64367"
      },
      "outputs": [
        {
          "output_type": "stream",
          "name": "stdout",
          "text": [
            "Method 1: [10 11  0 75 58]\n"
          ]
        }
      ],
      "source": [
        "import numpy as np\n",
        "\n",
        "# Create a random array of positive numbers\n",
        "random_array = np.random.rand(5) * 100  # Creating random positive numbers\n",
        "\n",
        "# Method 1: Using astype(int)\n",
        "integer_part_method_1 = random_array.astype(int)\n",
        "print(\"Method 1:\", integer_part_method_1)"
      ],
      "id": "e6e7c030"
    },
    {
      "cell_type": "markdown",
      "metadata": {
        "id": "cab1eed1"
      },
      "source": [
        "#### 37. Create a 5x5 matrix with row values ranging from 0 to 4 (★★☆)"
      ],
      "id": "cab1eed1"
    },
    {
      "cell_type": "code",
      "execution_count": null,
      "metadata": {
        "id": "f1b579ba",
        "colab": {
          "base_uri": "https://localhost:8080/"
        },
        "outputId": "5d102057-cbe5-4227-cdca-fcfea024f90e"
      },
      "outputs": [
        {
          "output_type": "stream",
          "name": "stdout",
          "text": [
            "[[0. 1. 2. 3. 4.]\n",
            " [0. 1. 2. 3. 4.]\n",
            " [0. 1. 2. 3. 4.]\n",
            " [0. 1. 2. 3. 4.]\n",
            " [0. 1. 2. 3. 4.]]\n"
          ]
        }
      ],
      "source": [
        "import numpy as np\n",
        "\n",
        "# Create a 5x5 matrix with row values ranging from 0 to 4\n",
        "matrix = np.zeros((5, 5)) + np.arange(5)\n",
        "\n",
        "print(matrix)"
      ],
      "id": "f1b579ba"
    },
    {
      "cell_type": "markdown",
      "metadata": {
        "id": "cd0ce6b1"
      },
      "source": [
        "#### 38. Consider a generator function that generates 10 integers and use it to build an array (★☆☆)"
      ],
      "id": "cd0ce6b1"
    },
    {
      "cell_type": "code",
      "execution_count": null,
      "metadata": {
        "id": "aab193a6",
        "colab": {
          "base_uri": "https://localhost:8080/"
        },
        "outputId": "6753f512-9e47-4a15-90e2-6815c69a36c5"
      },
      "outputs": [
        {
          "output_type": "stream",
          "name": "stdout",
          "text": [
            "[0 1 2 3 4 5 6 7 8 9]\n"
          ]
        }
      ],
      "source": [
        "import numpy as np\n",
        "\n",
        "# Generator function to produce 10 integers\n",
        "def generate_integers():\n",
        "    for i in range(10):\n",
        "        yield i\n",
        "\n",
        "# Build an array from the generated integers\n",
        "array_from_generator = np.array(list(generate_integers()))\n",
        "\n",
        "print(array_from_generator)"
      ],
      "id": "aab193a6"
    },
    {
      "cell_type": "markdown",
      "metadata": {
        "id": "c4c942d1"
      },
      "source": [
        "#### 39. Create a vector of size 10 with values ranging from 0 to 1, both excluded (★★☆)"
      ],
      "id": "c4c942d1"
    },
    {
      "cell_type": "code",
      "execution_count": null,
      "metadata": {
        "id": "e42eaa4b",
        "colab": {
          "base_uri": "https://localhost:8080/"
        },
        "outputId": "5b7b9dcf-a921-4332-b1c8-75da8f3439e0"
      },
      "outputs": [
        {
          "output_type": "stream",
          "name": "stdout",
          "text": [
            "[0.08333333 0.16666667 0.25       0.33333333 0.41666667 0.5\n",
            " 0.58333333 0.66666667 0.75       0.83333333]\n"
          ]
        }
      ],
      "source": [
        "import numpy as np\n",
        "\n",
        "# Create a vector of size 10 with values ranging from 0 to 1 (both excluded)\n",
        "vector = np.linspace(0, 1, 12, endpoint=False)[1:-1]\n",
        "\n",
        "print(vector)"
      ],
      "id": "e42eaa4b"
    },
    {
      "cell_type": "markdown",
      "metadata": {
        "id": "9b3cb8d2"
      },
      "source": [
        "#### 40. Create a random vector of size 10 and sort it (★★☆)"
      ],
      "id": "9b3cb8d2"
    },
    {
      "cell_type": "code",
      "execution_count": null,
      "metadata": {
        "id": "37d2b341",
        "colab": {
          "base_uri": "https://localhost:8080/"
        },
        "outputId": "20cf11eb-51c5-439b-83e5-68ac0fcb2af8"
      },
      "outputs": [
        {
          "output_type": "stream",
          "name": "stdout",
          "text": [
            "Random Vector: [0.30369193 0.96823687 0.7488417  0.47663997 0.41798323 0.08294406\n",
            " 0.33257716 0.32278438 0.67024868 0.99133578]\n",
            "Sorted Vector: [0.08294406 0.30369193 0.32278438 0.33257716 0.41798323 0.47663997\n",
            " 0.67024868 0.7488417  0.96823687 0.99133578]\n"
          ]
        }
      ],
      "source": [
        "import numpy as np\n",
        "\n",
        "# Create a random vector of size 10\n",
        "random_vector = np.random.rand(10)\n",
        "\n",
        "# Sort the random vector\n",
        "sorted_vector = np.sort(random_vector)\n",
        "\n",
        "print(\"Random Vector:\", random_vector)\n",
        "print(\"Sorted Vector:\", sorted_vector)"
      ],
      "id": "37d2b341"
    },
    {
      "cell_type": "markdown",
      "metadata": {
        "id": "2facfddc"
      },
      "source": [
        "#### 41. How to sum a small array faster than np.sum? (★★☆)"
      ],
      "id": "2facfddc"
    },
    {
      "cell_type": "code",
      "execution_count": null,
      "metadata": {
        "id": "4bb8864f",
        "outputId": "281e0fc3-75e1-44ba-98af-a248d4ae3975",
        "colab": {
          "base_uri": "https://localhost:8080/"
        }
      },
      "outputs": [
        {
          "output_type": "stream",
          "name": "stdout",
          "text": [
            "15\n"
          ]
        }
      ],
      "source": [
        "import numpy as np\n",
        "\n",
        "small_array = np.array([1, 2, 3, 4, 5])\n",
        "\n",
        "# Faster summation\n",
        "result = np.add.reduce(small_array)\n",
        "print(result)"
      ],
      "id": "4bb8864f"
    },
    {
      "cell_type": "markdown",
      "metadata": {
        "id": "539cd2a5"
      },
      "source": [
        "#### 42. Consider two random array A and B, check if they are equal (★★☆)"
      ],
      "id": "539cd2a5"
    },
    {
      "cell_type": "code",
      "execution_count": null,
      "metadata": {
        "id": "5246d7bf",
        "colab": {
          "base_uri": "https://localhost:8080/"
        },
        "outputId": "85088dea-40d7-48ae-d63d-1355eb958a47"
      },
      "outputs": [
        {
          "output_type": "stream",
          "name": "stdout",
          "text": [
            "Arrays A and B are equal: False\n"
          ]
        }
      ],
      "source": [
        "import numpy as np\n",
        "\n",
        "# Example random arrays A and B\n",
        "A = np.random.randint(0, 10, size=(3, 3))\n",
        "B = np.random.randint(0, 10, size=(3, 3))\n",
        "\n",
        "# Check if arrays A and B are equal\n",
        "are_equal = np.array_equal(A, B)\n",
        "\n",
        "print(f\"Arrays A and B are equal: {are_equal}\")"
      ],
      "id": "5246d7bf"
    },
    {
      "cell_type": "markdown",
      "metadata": {
        "id": "448f8274"
      },
      "source": [
        "#### 43. Make an array immutable (read-only) (★★☆)"
      ],
      "id": "448f8274"
    },
    {
      "cell_type": "code",
      "execution_count": null,
      "metadata": {
        "id": "7cf2b3dd"
      },
      "outputs": [],
      "source": [
        "import numpy as np\n",
        "\n",
        "# Create a numpy array\n",
        "my_array = np.array([1, 2, 3, 4, 5])\n",
        "\n",
        "# Make the array immutable\n",
        "my_array.flags.writeable = False\n",
        "\n",
        "# Attempt to modify the array will raise an error\n",
        "# Uncommenting the following line will result in an error:\n",
        "# my_array[0] = 10"
      ],
      "id": "7cf2b3dd"
    },
    {
      "cell_type": "markdown",
      "metadata": {
        "id": "d7b7aaf3"
      },
      "source": [
        "#### 44. Consider a random 10x2 matrix representing cartesian coordinates, convert them to polar coordinates (★★☆)"
      ],
      "id": "d7b7aaf3"
    },
    {
      "cell_type": "code",
      "execution_count": null,
      "metadata": {
        "id": "e2337585",
        "colab": {
          "base_uri": "https://localhost:8080/"
        },
        "outputId": "eb1cf514-cda8-455a-da05-470d7fbd5629"
      },
      "outputs": [
        {
          "output_type": "stream",
          "name": "stdout",
          "text": [
            "Cartesian Coordinates:\n",
            "[[0.35325229 0.95972195]\n",
            " [0.92447745 0.78566755]\n",
            " [0.27923479 0.3972936 ]\n",
            " [0.350927   0.61468644]\n",
            " [0.39906851 0.69452834]\n",
            " [0.67470512 0.5269018 ]\n",
            " [0.88743219 0.55151621]\n",
            " [0.01599248 0.59413645]\n",
            " [0.96436396 0.043084  ]\n",
            " [0.15375752 0.14519055]]\n",
            "\n",
            "Polar Coordinates:\n",
            "[[1.02266974 1.21810825]\n",
            " [1.21323207 0.70440721]\n",
            " [0.48560712 0.95816525]\n",
            " [0.70780589 1.05204568]\n",
            " [0.80101516 1.0492708 ]\n",
            " [0.85606805 0.66300823]\n",
            " [1.04484737 0.55605989]\n",
            " [0.59435165 1.54388564]\n",
            " [0.96532589 0.04464639]\n",
            " [0.21147498 0.75674895]]\n"
          ]
        }
      ],
      "source": [
        "import numpy as np\n",
        "\n",
        "# Create a random 10x2 matrix representing cartesian coordinates\n",
        "cartesian_coordinates = np.random.random((10, 2))\n",
        "\n",
        "# Extract x and y coordinates\n",
        "x, y = cartesian_coordinates[:, 0], cartesian_coordinates[:, 1]\n",
        "\n",
        "# Convert to polar coordinates\n",
        "r = np.hypot(x, y)\n",
        "theta = np.arctan2(y, x)\n",
        "\n",
        "# Print polar coordinates\n",
        "polar_coordinates = np.column_stack((r, theta))\n",
        "print(\"Cartesian Coordinates:\")\n",
        "print(cartesian_coordinates)\n",
        "print(\"\\nPolar Coordinates:\")\n",
        "print(polar_coordinates)"
      ],
      "id": "e2337585"
    },
    {
      "cell_type": "markdown",
      "metadata": {
        "id": "a556027a"
      },
      "source": [
        "#### 45. Create random vector of size 10 and replace the maximum value by 0 (★★☆)"
      ],
      "id": "a556027a"
    },
    {
      "cell_type": "code",
      "execution_count": null,
      "metadata": {
        "id": "9e07cb87",
        "colab": {
          "base_uri": "https://localhost:8080/"
        },
        "outputId": "2575ce00-d613-4aed-d980-f2cef741ec6e"
      },
      "outputs": [
        {
          "output_type": "stream",
          "name": "stdout",
          "text": [
            "[0.62335517 0.87149446 0.         0.59720112 0.38040709 0.75527363\n",
            " 0.75535543 0.16508078 0.83347226 0.50042864]\n"
          ]
        }
      ],
      "source": [
        "import numpy as np\n",
        "\n",
        "# Create a random vector of size 10\n",
        "random_vector = np.random.random(10)\n",
        "\n",
        "# Replace the maximum value with 0\n",
        "random_vector[random_vector.argmax()] = 0\n",
        "\n",
        "print(random_vector)"
      ],
      "id": "9e07cb87"
    },
    {
      "cell_type": "markdown",
      "metadata": {
        "id": "004f3da1"
      },
      "source": [
        "#### 46. Create a structured array with `x` and `y` coordinates covering the [0,1]x[0,1] area (★★☆)"
      ],
      "id": "004f3da1"
    },
    {
      "cell_type": "code",
      "execution_count": null,
      "metadata": {
        "id": "b3824741",
        "colab": {
          "base_uri": "https://localhost:8080/"
        },
        "outputId": "fee3897d-be51-4a8f-c4a2-3cf7cf2c77a9"
      },
      "outputs": [
        {
          "output_type": "stream",
          "name": "stdout",
          "text": [
            "[[(0.  , 0.  ) (0.25, 0.  ) (0.5 , 0.  ) (0.75, 0.  ) (1.  , 0.  )]\n",
            " [(0.  , 0.25) (0.25, 0.25) (0.5 , 0.25) (0.75, 0.25) (1.  , 0.25)]\n",
            " [(0.  , 0.5 ) (0.25, 0.5 ) (0.5 , 0.5 ) (0.75, 0.5 ) (1.  , 0.5 )]\n",
            " [(0.  , 0.75) (0.25, 0.75) (0.5 , 0.75) (0.75, 0.75) (1.  , 0.75)]\n",
            " [(0.  , 1.  ) (0.25, 1.  ) (0.5 , 1.  ) (0.75, 1.  ) (1.  , 1.  )]]\n"
          ]
        }
      ],
      "source": [
        "import numpy as np\n",
        "\n",
        "# Create a structured array with x and y coordinates\n",
        "structured_array = np.zeros((5, 5), dtype=[('x', float), ('y', float)])\n",
        "\n",
        "# Fill in x and y coordinates covering [0,1]x[0,1]\n",
        "structured_array['x'], structured_array['y'] = np.meshgrid(np.linspace(0, 1, 5), np.linspace(0, 1, 5))\n",
        "\n",
        "print(structured_array)"
      ],
      "id": "b3824741"
    },
    {
      "cell_type": "markdown",
      "metadata": {
        "id": "1c0adc0d"
      },
      "source": [
        "#### 47. Given two arrays, X and Y, construct the Cauchy matrix C (Cij =1/(xi - yj)) (★★☆)"
      ],
      "id": "1c0adc0d"
    },
    {
      "cell_type": "code",
      "execution_count": null,
      "metadata": {
        "id": "01b3bbb7",
        "colab": {
          "base_uri": "https://localhost:8080/"
        },
        "outputId": "6d8bc8e8-9559-426f-ba24-b8d88ec9b2bb"
      },
      "outputs": [
        {
          "output_type": "stream",
          "name": "stdout",
          "text": [
            "[[-0.33333333 -0.25       -0.2       ]\n",
            " [-0.5        -0.33333333 -0.25      ]\n",
            " [-1.         -0.5        -0.33333333]]\n"
          ]
        }
      ],
      "source": [
        "import numpy as np\n",
        "\n",
        "# Example arrays X and Y\n",
        "X = np.array([1, 2, 3])\n",
        "Y = np.array([4, 5, 6])\n",
        "\n",
        "# Construct the Cauchy matrix\n",
        "C = 1.0 / (X[:, np.newaxis] - Y)\n",
        "\n",
        "print(C)"
      ],
      "id": "01b3bbb7"
    },
    {
      "cell_type": "markdown",
      "metadata": {
        "id": "c8a2f65a"
      },
      "source": [
        "#### 48. Print the minimum and maximum representable value for each numpy scalar type (★★☆)"
      ],
      "id": "c8a2f65a"
    },
    {
      "cell_type": "code",
      "execution_count": null,
      "metadata": {
        "id": "35d844d6",
        "colab": {
          "base_uri": "https://localhost:8080/"
        },
        "outputId": "4dd61d65-f7c6-4e4d-b590-81b6289adbb7"
      },
      "outputs": [
        {
          "output_type": "stream",
          "name": "stdout",
          "text": [
            "<class 'numpy.int8'>: Min = -128, Max = 127\n",
            "<class 'numpy.int16'>: Min = -32768, Max = 32767\n",
            "<class 'numpy.int32'>: Min = -2147483648, Max = 2147483647\n",
            "<class 'numpy.int64'>: Min = -9223372036854775808, Max = 9223372036854775807\n",
            "<class 'numpy.float32'>: Min = -3.4028234663852886e+38, Max = 3.4028234663852886e+38\n",
            "<class 'numpy.float64'>: Min = -1.7976931348623157e+308, Max = 1.7976931348623157e+308\n"
          ]
        }
      ],
      "source": [
        "import numpy as np\n",
        "\n",
        "# Integer types\n",
        "for dtype in [np.int8, np.int16, np.int32, np.int64]:\n",
        "    info = np.iinfo(dtype)\n",
        "    print(f\"{dtype}: Min = {info.min}, Max = {info.max}\")\n",
        "\n",
        "# Floating-point types\n",
        "for dtype in [np.float32, np.float64]:\n",
        "    info = np.finfo(dtype)\n",
        "    print(f\"{dtype}: Min = {info.min}, Max = {info.max}\")"
      ],
      "id": "35d844d6"
    },
    {
      "cell_type": "markdown",
      "metadata": {
        "id": "11727a69"
      },
      "source": [
        "#### 49. How to print all the values of an array? (★★☆)"
      ],
      "id": "11727a69"
    },
    {
      "cell_type": "code",
      "execution_count": null,
      "metadata": {
        "id": "47e98473",
        "colab": {
          "base_uri": "https://localhost:8080/"
        },
        "outputId": "4a693db8-c35b-4455-9a07-b9deeed929c0"
      },
      "outputs": [
        {
          "output_type": "stream",
          "name": "stdout",
          "text": [
            "1\n",
            "2\n",
            "3\n",
            "4\n",
            "5\n",
            "6\n",
            "7\n",
            "8\n",
            "9\n",
            "[[1 2 3]\n",
            " [4 5 6]\n",
            " [7 8 9]]\n"
          ]
        }
      ],
      "source": [
        "import numpy as np\n",
        "\n",
        "# Example array\n",
        "my_array = np.array([[1, 2, 3], [4, 5, 6], [7, 8, 9]])\n",
        "\n",
        "# Using a loop to print all values\n",
        "for row in my_array:\n",
        "    for value in row:\n",
        "        print(value)\n",
        "\n",
        "# Or simply using print with the array\n",
        "print(my_array)"
      ],
      "id": "47e98473"
    },
    {
      "cell_type": "markdown",
      "metadata": {
        "id": "e0e7d741"
      },
      "source": [
        "#### 50. How to find the closest value (to a given scalar) in a vector? (★★☆)"
      ],
      "id": "e0e7d741"
    },
    {
      "cell_type": "code",
      "execution_count": null,
      "metadata": {
        "id": "62cabf6f",
        "colab": {
          "base_uri": "https://localhost:8080/"
        },
        "outputId": "f2c54f0b-cfbb-4b17-9bdc-8b824de36a66"
      },
      "outputs": [
        {
          "output_type": "stream",
          "name": "stdout",
          "text": [
            "Closest value to 3.5: 3\n"
          ]
        }
      ],
      "source": [
        "import numpy as np\n",
        "\n",
        "# Example vector\n",
        "vector = np.array([1, 2, 3, 4, 5])\n",
        "\n",
        "# Scalar value\n",
        "scalar = 3.5\n",
        "\n",
        "# Find index of closest value\n",
        "index_closest = np.abs(vector - scalar).argmin()\n",
        "\n",
        "# Get the closest value\n",
        "closest_value = vector[index_closest]\n",
        "\n",
        "print(f\"Closest value to {scalar}: {closest_value}\")"
      ],
      "id": "62cabf6f"
    },
    {
      "cell_type": "markdown",
      "metadata": {
        "id": "c5611b9e"
      },
      "source": [
        "#### 51. Create a structured array representing a position (x,y) and a color (r,g,b) (★★☆)"
      ],
      "id": "c5611b9e"
    },
    {
      "cell_type": "code",
      "execution_count": null,
      "metadata": {
        "id": "f622939d",
        "outputId": "c20901dc-c801-4223-cae7-02e2ce5077e4",
        "colab": {
          "base_uri": "https://localhost:8080/"
        }
      },
      "outputs": [
        {
          "output_type": "stream",
          "name": "stdout",
          "text": [
            "Position: (1., 2.)\n",
            "Color: (255, 0, 0)\n"
          ]
        }
      ],
      "source": [
        "import numpy as np\n",
        "\n",
        "# Define the structured array type\n",
        "dtype = np.dtype([('position', [('x', float), ('y', float)]),\n",
        "                  ('color', [('r', int), ('g', int), ('b', int)])])\n",
        "\n",
        "# Create a structured array\n",
        "position_color_array = np.array([((1.0, 2.0), (255, 0, 0)),\n",
        "                                 ((3.5, 4.2), (0, 128, 255)),\n",
        "                                 ((-1.0, 0.0), (0, 255, 0))], dtype=dtype)\n",
        "\n",
        "# Accessing elements in the structured array\n",
        "first_element = position_color_array[0]\n",
        "print(\"Position:\", first_element['position'])\n",
        "print(\"Color:\", first_element['color'])"
      ],
      "id": "f622939d"
    },
    {
      "cell_type": "markdown",
      "metadata": {
        "id": "d22b8574"
      },
      "source": [
        "#### 52. Consider a random vector with shape (100,2) representing coordinates, find point by point distances (★★☆)"
      ],
      "id": "d22b8574"
    },
    {
      "cell_type": "code",
      "execution_count": null,
      "metadata": {
        "id": "d5c9cdf8",
        "outputId": "284e2ce9-9546-4fd5-f8c3-929b8e3e9ed4",
        "colab": {
          "base_uri": "https://localhost:8080/"
        }
      },
      "outputs": [
        {
          "output_type": "stream",
          "name": "stdout",
          "text": [
            "[[0.         0.54215457 0.89747156 ... 1.09285819 0.49742171 0.74312049]\n",
            " [0.54215457 0.         1.00198746 ... 0.7812435  0.75354095 0.86716213]\n",
            " [0.89747156 1.00198746 0.         ... 0.7390137  0.41195454 0.15512589]\n",
            " ...\n",
            " [1.09285819 0.7812435  0.7390137  ... 0.         0.86714392 0.7228121 ]\n",
            " [0.49742171 0.75354095 0.41195454 ... 0.86714392 0.         0.26563246]\n",
            " [0.74312049 0.86716213 0.15512589 ... 0.7228121  0.26563246 0.        ]]\n"
          ]
        }
      ],
      "source": [
        "import numpy as np\n",
        "\n",
        "# Create a random vector with shape (100, 2)\n",
        "random_vector = np.random.rand(100, 2)\n",
        "\n",
        "# Calculate point-by-point distances\n",
        "distances = np.linalg.norm(random_vector - random_vector[:, np.newaxis], axis=2)\n",
        "\n",
        "# Print the result (distances matrix)\n",
        "print(distances)"
      ],
      "id": "d5c9cdf8"
    },
    {
      "cell_type": "markdown",
      "metadata": {
        "id": "f5c164f2"
      },
      "source": [
        "#### 53. How to convert a float (32 bits) array into an integer (32 bits) in place?"
      ],
      "id": "f5c164f2"
    },
    {
      "cell_type": "code",
      "execution_count": null,
      "metadata": {
        "id": "ea262de8",
        "colab": {
          "base_uri": "https://localhost:8080/"
        },
        "outputId": "2b3c9888-810d-4abc-e57c-5f5c8716999e"
      },
      "outputs": [
        {
          "output_type": "stream",
          "name": "stdout",
          "text": [
            "Original Float Array: [1.e-45 6.e-45 1.e-44]\n",
            "Converted Integer Array: [1 4 7]\n"
          ]
        }
      ],
      "source": [
        "import numpy as np\n",
        "\n",
        "# Create a float array (32 bits)\n",
        "float_array = np.array([1.23, 4.56, 7.89], dtype=np.float32)\n",
        "\n",
        "# Convert the float array to an integer array in place\n",
        "float_array.view(dtype=np.int32)[:] = float_array\n",
        "\n",
        "# Print the result\n",
        "print(\"Original Float Array:\", float_array)\n",
        "print(\"Converted Integer Array:\", float_array.view(dtype=np.int32))"
      ],
      "id": "ea262de8"
    },
    {
      "cell_type": "markdown",
      "metadata": {
        "id": "a8b7e6f5"
      },
      "source": [
        "#### 54. How to read the following file? (★★☆)\n",
        "```\n",
        "1, 2, 3, 4, 5\n",
        "6,  ,  , 7, 8\n",
        " ,  , 9,10,11\n",
        "```"
      ],
      "id": "a8b7e6f5"
    },
    {
      "cell_type": "code",
      "execution_count": null,
      "metadata": {
        "id": "bde0538a",
        "colab": {
          "base_uri": "https://localhost:8080/"
        },
        "outputId": "dcb51799-9f94-4182-8460-8efcda007a5a"
      },
      "outputs": [
        {
          "output_type": "stream",
          "name": "stdout",
          "text": [
            "[[1.0 ' 2' ' 3' 4 5]\n",
            " [6.0 '  ' '  ' 7 8]\n",
            " [nan '  ' ' 9' 10 11]]\n"
          ]
        }
      ],
      "source": [
        "import pandas as pd\n",
        "from io import StringIO\n",
        "\n",
        "# Your data as a string (replace this with reading from a file)\n",
        "file_content = \"\"\"1, 2, 3, 4, 5\n",
        "6,  ,  , 7, 8\n",
        " ,  , 9, 10, 11\"\"\"\n",
        "\n",
        "# Use StringIO to simulate reading from a file\n",
        "data = StringIO(file_content)\n",
        "\n",
        "# Read the data into a pandas DataFrame\n",
        "df = pd.read_csv(data, header=None, delimiter=',', na_values=' ')\n",
        "\n",
        "# Convert the DataFrame to a NumPy array\n",
        "data_array = df.to_numpy()\n",
        "\n",
        "# Print the result\n",
        "print(data_array)"
      ],
      "id": "bde0538a"
    },
    {
      "cell_type": "markdown",
      "metadata": {
        "id": "c6b32834"
      },
      "source": [
        "#### 55. What is the equivalent of enumerate for numpy arrays? (★★☆)"
      ],
      "id": "c6b32834"
    },
    {
      "cell_type": "code",
      "execution_count": null,
      "metadata": {
        "id": "ab02472a",
        "colab": {
          "base_uri": "https://localhost:8080/"
        },
        "outputId": "81fa3461-b300-4a7e-acee-251f1a31c5a3"
      },
      "outputs": [
        {
          "output_type": "stream",
          "name": "stdout",
          "text": [
            "Index: (0, 0) Value: 1\n",
            "Index: (0, 1) Value: 2\n",
            "Index: (0, 2) Value: 3\n",
            "Index: (1, 0) Value: 4\n",
            "Index: (1, 1) Value: 5\n",
            "Index: (1, 2) Value: 6\n",
            "Index: (2, 0) Value: 7\n",
            "Index: (2, 1) Value: 8\n",
            "Index: (2, 2) Value: 9\n"
          ]
        }
      ],
      "source": [
        "import numpy as np\n",
        "\n",
        "# Create a NumPy array\n",
        "arr = np.array([[1, 2, 3],\n",
        "                [4, 5, 6],\n",
        "                [7, 8, 9]])\n",
        "\n",
        "# Using numpy.ndenumerate to iterate over elements and indices\n",
        "for index, value in np.ndenumerate(arr):\n",
        "    print(\"Index:\", index, \"Value:\", value)"
      ],
      "id": "ab02472a"
    },
    {
      "cell_type": "markdown",
      "metadata": {
        "id": "a2121a05"
      },
      "source": [
        "#### 56. Generate a generic 2D Gaussian-like array (★★☆)"
      ],
      "id": "a2121a05"
    },
    {
      "cell_type": "code",
      "execution_count": null,
      "metadata": {
        "id": "18507102",
        "colab": {
          "base_uri": "https://localhost:8080/",
          "height": 285
        },
        "outputId": "daa159cc-cc54-449b-cc21-f2cdda80d440"
      },
      "outputs": [
        {
          "output_type": "display_data",
          "data": {
            "text/plain": [
              "<Figure size 640x480 with 2 Axes>"
            ],
            "image/png": "[encoded data removed]"
          },
          "metadata": {}
        }
      ],
      "source": [
        "import numpy as np\n",
        "import matplotlib.pyplot as plt\n",
        "\n",
        "def gaussian_2d(x, y, mu, sigma):\n",
        "    return np.exp(-((x - mu[0])**2 + (y - mu[1])**2) / (2 * sigma**2))\n",
        "\n",
        "# Define parameters\n",
        "size = 100  # Size of the array\n",
        "mu = [0, 0]  # Mean of the Gaussian\n",
        "sigma = 1.5  # Standard deviation of the Gaussian\n",
        "\n",
        "# Create a grid of coordinates\n",
        "x = np.linspace(-5, 5, size)\n",
        "y = np.linspace(-5, 5, size)\n",
        "x, y = np.meshgrid(x, y)\n",
        "\n",
        "# Generate the 2D Gaussian-like array\n",
        "gaussian_array = gaussian_2d(x, y, mu, sigma)\n",
        "\n",
        "# Plot the Gaussian-like array\n",
        "plt.imshow(gaussian_array, cmap='viridis', extent=(-5, 5, -5, 5))\n",
        "plt.title('2D Gaussian-like Array')\n",
        "plt.colorbar()\n",
        "plt.show()"
      ],
      "id": "18507102"
    },
    {
      "cell_type": "markdown",
      "metadata": {
        "id": "97055efa"
      },
      "source": [
        "#### 57. How to randomly place p elements in a 2D array? (★★☆)"
      ],
      "id": "97055efa"
    },
    {
      "cell_type": "code",
      "execution_count": null,
      "metadata": {
        "id": "292e842f",
        "colab": {
          "base_uri": "https://localhost:8080/"
        },
        "outputId": "322771d3-630b-4c92-d485-436987362187"
      },
      "outputs": [
        {
          "output_type": "stream",
          "name": "stdout",
          "text": [
            "[[0 0 1 0 0]\n",
            " [1 0 0 0 0]\n",
            " [0 1 0 1 1]\n",
            " [0 0 0 0 0]\n",
            " [0 1 0 0 0]]\n"
          ]
        }
      ],
      "source": [
        "import numpy as np\n",
        "\n",
        "def randomly_place_elements(array, p, value_to_place):\n",
        "    # Flatten the array to simplify indexing\n",
        "    flat_array = array.flatten()\n",
        "\n",
        "    # Get the total number of elements in the array\n",
        "    total_elements = flat_array.size\n",
        "\n",
        "    # Randomly select p indices\n",
        "    random_indices = np.random.choice(total_elements, p, replace=False)\n",
        "\n",
        "    # Place the specified value at randomly selected indices\n",
        "    flat_array[random_indices] = value_to_place\n",
        "\n",
        "    # Reshape the flat array back to the original shape\n",
        "    result_array = flat_array.reshape(array.shape)\n",
        "\n",
        "    return result_array\n",
        "\n",
        "# Example usage\n",
        "array_size = (5, 5)  # Change the size of the array as needed\n",
        "p_elements = 6\n",
        "value_to_place = 1\n",
        "\n",
        "# Create a 2D array with zeros\n",
        "my_array = np.zeros(array_size, dtype=int)\n",
        "\n",
        "# Randomly place p elements in the array with the specified value\n",
        "result_array = randomly_place_elements(my_array, p_elements, value_to_place)\n",
        "\n",
        "# Print the result\n",
        "print(result_array)"
      ],
      "id": "292e842f"
    },
    {
      "cell_type": "markdown",
      "metadata": {
        "id": "bfd2513c"
      },
      "source": [
        "#### 58. Subtract the mean of each row of a matrix (★★☆)"
      ],
      "id": "bfd2513c"
    },
    {
      "cell_type": "code",
      "execution_count": null,
      "metadata": {
        "id": "f306ab72",
        "colab": {
          "base_uri": "https://localhost:8080/"
        },
        "outputId": "3abd7a5b-634e-4b6d-d183-0dc0f932923a"
      },
      "outputs": [
        {
          "output_type": "stream",
          "name": "stdout",
          "text": [
            "Original Matrix:\n",
            " [[1 2 3]\n",
            " [4 5 6]\n",
            " [7 8 9]]\n",
            "\n",
            "Result Matrix (after subtracting row means):\n",
            " [[-1.  0.  1.]\n",
            " [-1.  0.  1.]\n",
            " [-1.  0.  1.]]\n"
          ]
        }
      ],
      "source": [
        "import numpy as np\n",
        "\n",
        "# Create a sample matrix\n",
        "matrix = np.array([[1, 2, 3],\n",
        "                   [4, 5, 6],\n",
        "                   [7, 8, 9]])\n",
        "\n",
        "# Subtract the mean of each row\n",
        "result_matrix = matrix - matrix.mean(axis=1, keepdims=True)\n",
        "\n",
        "# Print the result\n",
        "print(\"Original Matrix:\\n\", matrix)\n",
        "print(\"\\nResult Matrix (after subtracting row means):\\n\", result_matrix)"
      ],
      "id": "f306ab72"
    },
    {
      "cell_type": "markdown",
      "metadata": {
        "id": "da9f2f9b"
      },
      "source": [
        "#### 59. How to sort an array by the nth column? (★★☆)"
      ],
      "id": "da9f2f9b"
    },
    {
      "cell_type": "code",
      "execution_count": null,
      "metadata": {
        "id": "68cde57f",
        "colab": {
          "base_uri": "https://localhost:8080/"
        },
        "outputId": "7e4d3d54-8bd1-4f1e-d56e-4cf567e98864"
      },
      "outputs": [
        {
          "output_type": "stream",
          "name": "stdout",
          "text": [
            "Original Array:\n",
            " [[4 2 8]\n",
            " [3 5 1]\n",
            " [7 6 9]]\n",
            "\n",
            "Sorted Array by the nth column:\n",
            " [[4 2 8]\n",
            " [3 5 1]\n",
            " [7 6 9]]\n"
          ]
        }
      ],
      "source": [
        "import numpy as np\n",
        "\n",
        "# Create a sample 2D array\n",
        "array = np.array([[4, 2, 8],\n",
        "                  [3, 5, 1],\n",
        "                  [7, 6, 9]])\n",
        "\n",
        "# Specify the column number to sort by (e.g., sorting by the 2nd column)\n",
        "n = 1\n",
        "\n",
        "# Get the indices that would sort the array by the nth column\n",
        "sorted_indices = np.argsort(array[:, n])\n",
        "\n",
        "# Use the sorted indices to reorder the array\n",
        "sorted_array = array[sorted_indices]\n",
        "\n",
        "# Print the result\n",
        "print(\"Original Array:\\n\", array)\n",
        "print(\"\\nSorted Array by the nth column:\\n\", sorted_array)"
      ],
      "id": "68cde57f"
    },
    {
      "cell_type": "markdown",
      "metadata": {
        "id": "5b7be45c"
      },
      "source": [
        "#### 60. How to tell if a given 2D array has null columns? (★★☆)"
      ],
      "id": "5b7be45c"
    },
    {
      "cell_type": "code",
      "execution_count": null,
      "metadata": {
        "id": "7dbe2c27",
        "colab": {
          "base_uri": "https://localhost:8080/"
        },
        "outputId": "96645d4d-9a9f-4287-da99-48375a457a55"
      },
      "outputs": [
        {
          "output_type": "stream",
          "name": "stdout",
          "text": [
            "Original Array:\n",
            " [[1 0 3]\n",
            " [0 0 0]\n",
            " [4 0 6]]\n",
            "\n",
            "Does the array have null columns? True\n"
          ]
        }
      ],
      "source": [
        "import numpy as np\n",
        "\n",
        "def has_null_columns(array, null_value=0):\n",
        "    # Check if any column contains only null values\n",
        "    return np.all(array == null_value, axis=0).any()\n",
        "\n",
        "# Create a sample 2D array\n",
        "array = np.array([[1, 0, 3],\n",
        "                  [0, 0, 0],\n",
        "                  [4, 0, 6]])\n",
        "\n",
        "# Check if the array has null columns (using the default null_value=0)\n",
        "result = has_null_columns(array)\n",
        "\n",
        "# Print the result\n",
        "print(\"Original Array:\\n\", array)\n",
        "print(\"\\nDoes the array have null columns?\", result)"
      ],
      "id": "7dbe2c27"
    },
    {
      "cell_type": "markdown",
      "metadata": {
        "id": "7c18c02e"
      },
      "source": [
        "#### 61. Find the nearest value from a given value in an array (★★☆)"
      ],
      "id": "7c18c02e"
    },
    {
      "cell_type": "code",
      "execution_count": null,
      "metadata": {
        "id": "b78ae9c4",
        "colab": {
          "base_uri": "https://localhost:8080/"
        },
        "outputId": "35b6a8e4-428d-4095-d953-242903673285"
      },
      "outputs": [
        {
          "output_type": "stream",
          "name": "stdout",
          "text": [
            "Original Array: [ 1  3  7 10 15]\n",
            "Given Value: 8\n",
            "Nearest Value: 7\n"
          ]
        }
      ],
      "source": [
        "import numpy as np\n",
        "\n",
        "def find_nearest_value(array, value):\n",
        "    # Calculate absolute differences\n",
        "    absolute_diff = np.abs(array - value)\n",
        "\n",
        "    # Find index of the minimum absolute difference\n",
        "    index_of_nearest = np.argmin(absolute_diff)\n",
        "\n",
        "    # Get the nearest value\n",
        "    nearest_value = array[index_of_nearest]\n",
        "\n",
        "    return nearest_value\n",
        "\n",
        "# Create a sample array\n",
        "array = np.array([1, 3, 7, 10, 15])\n",
        "\n",
        "# Given value\n",
        "given_value = 8\n",
        "\n",
        "# Find the nearest value in the array\n",
        "nearest_value = find_nearest_value(array, given_value)\n",
        "\n",
        "# Print the result\n",
        "print(\"Original Array:\", array)\n",
        "print(\"Given Value:\", given_value)\n",
        "print(\"Nearest Value:\", nearest_value)"
      ],
      "id": "b78ae9c4"
    },
    {
      "cell_type": "markdown",
      "metadata": {
        "id": "8174ba2c"
      },
      "source": [
        "#### 62. Considering two arrays with shape (1,3) and (3,1), how to compute their sum using an iterator? (★★☆)"
      ],
      "id": "8174ba2c"
    },
    {
      "cell_type": "code",
      "execution_count": null,
      "metadata": {
        "id": "8a18fe57",
        "colab": {
          "base_uri": "https://localhost:8080/"
        },
        "outputId": "4c017195-6d79-4b8a-e1af-99d82bd4da35"
      },
      "outputs": [
        {
          "output_type": "stream",
          "name": "stdout",
          "text": [
            "Array 1:\n",
            " [[1 2 3]]\n",
            "Array 2:\n",
            " [[4]\n",
            " [5]\n",
            " [6]]\n",
            "Sum using iterator: 21\n"
          ]
        }
      ],
      "source": [
        "import numpy as np\n",
        "\n",
        "# Create two arrays with shapes (1, 3) and (3, 1)\n",
        "array1 = np.array([[1, 2, 3]])\n",
        "array2 = np.array([[4], [5], [6]])\n",
        "\n",
        "# Initialize the iterator for each array\n",
        "iterator1 = np.nditer(array1)\n",
        "iterator2 = np.nditer(array2)\n",
        "\n",
        "# Initialize the sum variable\n",
        "sum_result = 0\n",
        "\n",
        "# Iterate over the elements and compute the sum\n",
        "while not (iterator1.finished and iterator2.finished):\n",
        "    sum_result += iterator1[0] + iterator2[0]\n",
        "    iterator1.iternext()\n",
        "    iterator2.iternext()\n",
        "\n",
        "# Print the result\n",
        "print(\"Array 1:\\n\", array1)\n",
        "print(\"Array 2:\\n\", array2)\n",
        "print(\"Sum using iterator:\", sum_result)"
      ],
      "id": "8a18fe57"
    },
    {
      "cell_type": "markdown",
      "metadata": {
        "id": "9189bd7c"
      },
      "source": [
        "#### 63. Create an array class that has a name attribute (★★☆)"
      ],
      "id": "9189bd7c"
    },
    {
      "cell_type": "code",
      "execution_count": null,
      "metadata": {
        "id": "1c01ed42",
        "colab": {
          "base_uri": "https://localhost:8080/"
        },
        "outputId": "12a1e3fc-7fa5-4779-ff5a-4a0ec2f9f04c"
      },
      "outputs": [
        {
          "output_type": "stream",
          "name": "stdout",
          "text": [
            "Name: MyArray\n",
            "Array: [1 2 3 4 5]\n"
          ]
        }
      ],
      "source": [
        "class NamedArray:\n",
        "    def __init__(self, array, name):\n",
        "        self.array = array\n",
        "        self.name = name\n",
        "\n",
        "# Example usage\n",
        "data = [1, 2, 3, 4, 5]\n",
        "name = \"MyArray\"\n",
        "\n",
        "# Create an instance of the NamedArray class\n",
        "my_named_array = NamedArray(array=np.array(data), name=name)\n",
        "\n",
        "# Access the attributes\n",
        "print(\"Name:\", my_named_array.name)\n",
        "print(\"Array:\", my_named_array.array)"
      ],
      "id": "1c01ed42"
    },
    {
      "cell_type": "markdown",
      "metadata": {
        "id": "f30162d2"
      },
      "source": [
        "#### 64. Consider a given vector, how to add 1 to each element indexed by a second vector (be careful with repeated indices)? (★★★)"
      ],
      "id": "f30162d2"
    },
    {
      "cell_type": "code",
      "execution_count": null,
      "metadata": {
        "id": "093ba36f",
        "colab": {
          "base_uri": "https://localhost:8080/"
        },
        "outputId": "afa9e87e-460e-437f-93fb-774e5ff337f6"
      },
      "outputs": [
        {
          "output_type": "stream",
          "name": "stdout",
          "text": [
            "Original Vector: [1 2 3 4 5]\n",
            "Indices to Add 1: [1 3 1 4 2]\n",
            "Result Vector: [1 3 4 5 6]\n"
          ]
        }
      ],
      "source": [
        "import numpy as np\n",
        "\n",
        "def add_1_at_indices(vector, indices):\n",
        "    # Use a set to keep track of unique indices\n",
        "    unique_indices = set()\n",
        "\n",
        "    # Iterate over the indices and add 1 to corresponding elements\n",
        "    for idx in indices:\n",
        "        if idx not in unique_indices:\n",
        "            vector[idx] += 1\n",
        "            unique_indices.add(idx)\n",
        "\n",
        "    return vector\n",
        "\n",
        "# Example usage\n",
        "original_vector = np.array([1, 2, 3, 4, 5])\n",
        "indices_to_add_1 = np.array([1, 3, 1, 4, 2])\n",
        "\n",
        "# Add 1 to elements at specified indices\n",
        "result_vector = add_1_at_indices(original_vector.copy(), indices_to_add_1)\n",
        "\n",
        "# Print the result\n",
        "print(\"Original Vector:\", original_vector)\n",
        "print(\"Indices to Add 1:\", indices_to_add_1)\n",
        "print(\"Result Vector:\", result_vector)"
      ],
      "id": "093ba36f"
    },
    {
      "cell_type": "markdown",
      "metadata": {
        "id": "f5b1c584"
      },
      "source": [
        "#### 65. How to accumulate elements of a vector (X) to an array (F) based on an index list (I)? (★★★)"
      ],
      "id": "f5b1c584"
    },
    {
      "cell_type": "code",
      "execution_count": null,
      "metadata": {
        "id": "c9d92a75",
        "colab": {
          "base_uri": "https://localhost:8080/"
        },
        "outputId": "43eda89b-080d-4e75-d215-8ae5574b1abd"
      },
      "outputs": [
        {
          "output_type": "stream",
          "name": "stdout",
          "text": [
            "X: [1 2 3 4 5]\n",
            "F: [0. 3. 1. 5. 2. 0. 4. 0. 0. 0.]\n",
            "Indices (I): [2 4 1 6 3]\n",
            "Result Array: [0. 3. 1. 5. 2. 0. 4. 0. 0. 0.]\n"
          ]
        }
      ],
      "source": [
        "import numpy as np\n",
        "\n",
        "def accumulate_elements(X, F, I):\n",
        "    np.add.at(F, I, X)\n",
        "    return F\n",
        "\n",
        "# Example usage\n",
        "X = np.array([1, 2, 3, 4, 5])\n",
        "F = np.zeros(10)  # Array to accumulate into\n",
        "I = np.array([2, 4, 1, 6, 3])\n",
        "\n",
        "# Accumulate elements of X into F based on indices I\n",
        "result_array = accumulate_elements(X, F, I)\n",
        "\n",
        "# Print the result\n",
        "print(\"X:\", X)\n",
        "print(\"F:\", F)\n",
        "print(\"Indices (I):\", I)\n",
        "print(\"Result Array:\", result_array)"
      ],
      "id": "c9d92a75"
    },
    {
      "cell_type": "markdown",
      "metadata": {
        "id": "994c452d"
      },
      "source": [
        "#### 66. Considering a (w,h,3) image of (dtype=ubyte), compute the number of unique colors (★★☆)"
      ],
      "id": "994c452d"
    },
    {
      "cell_type": "code",
      "execution_count": null,
      "metadata": {
        "id": "269cdaea",
        "colab": {
          "base_uri": "https://localhost:8080/"
        },
        "outputId": "fe07e538-b307-41a0-83fa-2d8fe35bf4d7"
      },
      "outputs": [
        {
          "output_type": "stream",
          "name": "stdout",
          "text": [
            "Number of unique colors: 100\n"
          ]
        }
      ],
      "source": [
        "import numpy as np\n",
        "\n",
        "def count_unique_colors(image):\n",
        "    # Reshape the image to a 2D array where each row represents a pixel\n",
        "    pixel_array = image.reshape((-1, 3))\n",
        "\n",
        "    # Convert the pixel values to a tuple for each pixel\n",
        "    pixel_tuples = [tuple(pixel) for pixel in pixel_array]\n",
        "\n",
        "    # Use set to get unique color tuples\n",
        "    unique_colors = set(pixel_tuples)\n",
        "\n",
        "    # Count the number of unique colors\n",
        "    num_unique_colors = len(unique_colors)\n",
        "\n",
        "    return num_unique_colors\n",
        "\n",
        "# Example usage\n",
        "image = np.random.randint(0, 256, size=(10, 10, 3), dtype=np.ubyte)  # Example random image\n",
        "unique_colors_count = count_unique_colors(image)\n",
        "\n",
        "# Print the result\n",
        "print(\"Number of unique colors:\", unique_colors_count)"
      ],
      "id": "269cdaea"
    },
    {
      "cell_type": "markdown",
      "metadata": {
        "id": "4bddeb31"
      },
      "source": [
        "#### 67. Considering a four dimensions array, how to get sum over the last two axis at once? (★★★)"
      ],
      "id": "4bddeb31"
    },
    {
      "cell_type": "code",
      "execution_count": null,
      "metadata": {
        "id": "32af15f5",
        "colab": {
          "base_uri": "https://localhost:8080/"
        },
        "outputId": "cf1eaf0b-42de-4943-f538-bf607d3e76fa"
      },
      "outputs": [
        {
          "output_type": "stream",
          "name": "stdout",
          "text": [
            "Original Array Shape: (4, 3, 2, 5)\n",
            "Sum Over Last Two Axes Shape: (4, 3)\n",
            "Sum Over Last Two Axes:\n",
            " [[40 48 30]\n",
            " [35 45 43]\n",
            " [31 27 46]\n",
            " [36 39 54]]\n"
          ]
        }
      ],
      "source": [
        "import numpy as np\n",
        "\n",
        "# Create a four-dimensional array (4, 3, 2, 5)\n",
        "four_dim_array = np.random.randint(0, 10, size=(4, 3, 2, 5))\n",
        "\n",
        "# Get the sum over the last two axes (axis=(2, 3))\n",
        "sum_over_last_two_axes = np.sum(four_dim_array, axis=(2, 3))\n",
        "\n",
        "# Print the result\n",
        "print(\"Original Array Shape:\", four_dim_array.shape)\n",
        "print(\"Sum Over Last Two Axes Shape:\", sum_over_last_two_axes.shape)\n",
        "print(\"Sum Over Last Two Axes:\\n\", sum_over_last_two_axes)"
      ],
      "id": "32af15f5"
    },
    {
      "cell_type": "markdown",
      "metadata": {
        "id": "c4cf083c"
      },
      "source": [
        "#### 68. Considering a one-dimensional vector D, how to compute means of subsets of D using a vector S of same size describing subset  indices? (★★★)"
      ],
      "id": "c4cf083c"
    },
    {
      "cell_type": "code",
      "execution_count": null,
      "metadata": {
        "id": "9600a2dd",
        "colab": {
          "base_uri": "https://localhost:8080/"
        },
        "outputId": "600c9e70-54d4-40ac-f0cf-7b0e1e4826d2"
      },
      "outputs": [
        {
          "output_type": "stream",
          "name": "stdout",
          "text": [
            "Vector D: [1 2 3 4 5 6]\n",
            "Vector S: [0 1 1 2 2 1]\n",
            "Means of Subsets: [1.         3.66666667 4.5       ]\n"
          ]
        }
      ],
      "source": [
        "import numpy as np\n",
        "\n",
        "def subset_means(D, S):\n",
        "    # Use unique indices from S to create a mapping\n",
        "    unique_indices, index_mapping = np.unique(S, return_inverse=True)\n",
        "\n",
        "    # Use bincount to accumulate values for each subset\n",
        "    subset_sums = np.bincount(index_mapping, weights=D)\n",
        "    subset_counts = np.bincount(index_mapping)\n",
        "\n",
        "    # Compute means for each subset\n",
        "    subset_means = subset_sums / subset_counts\n",
        "\n",
        "    return subset_means\n",
        "\n",
        "# Example usage\n",
        "D = np.array([1, 2, 3, 4, 5, 6])\n",
        "S = np.array([0, 1, 1, 2, 2, 1])\n",
        "\n",
        "# Compute means of subsets using D and S\n",
        "means_of_subsets = subset_means(D, S)\n",
        "\n",
        "# Print the result\n",
        "print(\"Vector D:\", D)\n",
        "print(\"Vector S:\", S)\n",
        "print(\"Means of Subsets:\", means_of_subsets)"
      ],
      "id": "9600a2dd"
    },
    {
      "cell_type": "markdown",
      "metadata": {
        "id": "a5e316db"
      },
      "source": [
        "#### 69. How to get the diagonal of a dot product? (★★★)"
      ],
      "id": "a5e316db"
    },
    {
      "cell_type": "code",
      "execution_count": null,
      "metadata": {
        "id": "94735dbd",
        "colab": {
          "base_uri": "https://localhost:8080/"
        },
        "outputId": "bbbf66ef-828e-4b3f-8840-ba851a1727a4"
      },
      "outputs": [
        {
          "output_type": "stream",
          "name": "stdout",
          "text": [
            "Matrix A:\n",
            " [[0.91456094 0.95897931 0.4145917 ]\n",
            " [0.60344408 0.71794295 0.05441886]\n",
            " [0.84721384 0.2349143  0.26394438]]\n",
            "Matrix B:\n",
            " [[0.00960319 0.91569465 0.85259531]\n",
            " [0.06996162 0.26095623 0.02678579]\n",
            " [0.91712511 0.47666676 0.53022367]]\n",
            "Dot Product:\n",
            " [[0.45610692 1.28533227 1.02526372]\n",
            " [0.10593234 0.76586186 0.56257843]\n",
            " [0.26664096 0.96290505 0.86857247]]\n",
            "Diagonal of Dot Product: [0.45610692 0.76586186 0.86857247]\n"
          ]
        }
      ],
      "source": [
        "import numpy as np\n",
        "\n",
        "# Create two matrices\n",
        "A = np.random.rand(3, 3)\n",
        "B = np.random.rand(3, 3)\n",
        "\n",
        "# Compute the dot product of A and B\n",
        "dot_product = np.dot(A, B)\n",
        "\n",
        "# Get the diagonal of the dot product using einsum\n",
        "diagonal_of_dot_product = np.einsum('ii->i', dot_product)\n",
        "\n",
        "# Print the result\n",
        "print(\"Matrix A:\\n\", A)\n",
        "print(\"Matrix B:\\n\", B)\n",
        "print(\"Dot Product:\\n\", dot_product)\n",
        "print(\"Diagonal of Dot Product:\", diagonal_of_dot_product)"
      ],
      "id": "94735dbd"
    },
    {
      "cell_type": "markdown",
      "metadata": {
        "id": "de727a7b"
      },
      "source": [
        "#### 70. Consider the vector [1, 2, 3, 4, 5], how to build a new vector with 3 consecutive zeros interleaved between each value? (★★★)"
      ],
      "id": "de727a7b"
    },
    {
      "cell_type": "code",
      "execution_count": null,
      "metadata": {
        "id": "982be812",
        "colab": {
          "base_uri": "https://localhost:8080/"
        },
        "outputId": "15280a9a-373d-48a2-893a-883e099c473a"
      },
      "outputs": [
        {
          "output_type": "stream",
          "name": "stdout",
          "text": [
            "Original Vector: [1 2 3 4 5]\n",
            "New Vector with 3 consecutive zeros interleaved: [1. 0. 0. 0. 2. 0. 0. 0. 3. 0. 0. 0. 4. 0. 0. 0. 5.]\n"
          ]
        }
      ],
      "source": [
        "import numpy as np\n",
        "\n",
        "# Given vector\n",
        "original_vector = np.array([1, 2, 3, 4, 5])\n",
        "\n",
        "# Build a new vector with 3 consecutive zeros interleaved\n",
        "new_vector = np.zeros(len(original_vector) + 3 * (len(original_vector) - 1))\n",
        "new_vector[::4] = original_vector\n",
        "\n",
        "# Print the result\n",
        "print(\"Original Vector:\", original_vector)\n",
        "print(\"New Vector with 3 consecutive zeros interleaved:\", new_vector)"
      ],
      "id": "982be812"
    },
    {
      "cell_type": "markdown",
      "metadata": {
        "id": "a9a73d6b"
      },
      "source": [
        "#### 71. Consider an array of dimension (5,5,3), how to mulitply it by an array with dimensions (5,5)? (★★★)"
      ],
      "id": "a9a73d6b"
    },
    {
      "cell_type": "code",
      "execution_count": null,
      "metadata": {
        "id": "282a90cc",
        "colab": {
          "base_uri": "https://localhost:8080/"
        },
        "outputId": "30a04d7a-7756-41ca-d301-b4b72b6a0749"
      },
      "outputs": [
        {
          "output_type": "stream",
          "name": "stdout",
          "text": [
            "Array with dimensions (5, 5, 3):\n",
            " [[[0.33055549 0.17574888 0.58298877]\n",
            "  [0.83836339 0.9239088  0.88891317]\n",
            "  [0.2302289  0.76951712 0.82104722]\n",
            "  [0.06113396 0.73077182 0.24603413]\n",
            "  [0.78473538 0.58118758 0.30759498]]\n",
            "\n",
            " [[0.80447068 0.00917368 0.6953335 ]\n",
            "  [0.34531276 0.839744   0.3773112 ]\n",
            "  [0.80185315 0.5348513  0.38184779]\n",
            "  [0.52328391 0.16291348 0.05885641]\n",
            "  [0.36206705 0.55565109 0.27205658]]\n",
            "\n",
            " [[0.92973698 0.95187939 0.64619559]\n",
            "  [0.40613842 0.55913273 0.36843355]\n",
            "  [0.3917352  0.88467545 0.30241111]\n",
            "  [0.73605023 0.51823151 0.21666941]\n",
            "  [0.41017719 0.99338606 0.76161516]]\n",
            "\n",
            " [[0.62912691 0.94625707 0.09635605]\n",
            "  [0.92769747 0.37523973 0.72402352]\n",
            "  [0.25725025 0.25543983 0.11712075]\n",
            "  [0.13598133 0.04166425 0.99969124]\n",
            "  [0.72923283 0.2819466  0.30426904]]\n",
            "\n",
            " [[0.80964442 0.4961997  0.61612301]\n",
            "  [0.54480566 0.39577894 0.05758745]\n",
            "  [0.48739901 0.73699234 0.07670165]\n",
            "  [0.28778592 0.40142207 0.96270526]\n",
            "  [0.10124263 0.42598776 0.79574344]]]\n",
            "\n",
            "Array with dimensions (5, 5):\n",
            " [[0.92671995 0.57605619 0.39265107 0.11779603 0.63467441]\n",
            " [0.8615373  0.88743324 0.83346431 0.11560406 0.82236725]\n",
            " [0.07004178 0.97010289 0.19407083 0.23279657 0.65329013]\n",
            " [0.03281908 0.45469793 0.00191867 0.27724856 0.09852223]\n",
            " [0.73998607 0.08027693 0.39459382 0.34477562 0.45028162]]\n",
            "\n",
            "Result after multiplication:\n",
            " [[[3.06332363e-01 1.62869992e-01 5.40267321e-01]\n",
            "  [4.82944421e-01 5.32223385e-01 5.12063937e-01]\n",
            "  [9.03996244e-02 3.02151723e-01 3.22385071e-01]\n",
            "  [7.20133767e-03 8.60820206e-02 2.89818443e-02]\n",
            "  [4.98051458e-01 3.68864885e-01 1.95222660e-01]]\n",
            "\n",
            " [[6.93081498e-01 7.90346365e-03 5.99055745e-01]\n",
            "  [3.06442018e-01 7.45216735e-01 3.34838501e-01]\n",
            "  [6.68315985e-01 4.45779471e-01 3.18256503e-01]\n",
            "  [6.04937458e-02 1.88334596e-02 6.80403978e-03]\n",
            "  [2.97752086e-01 4.56949257e-01 2.23730418e-01]]\n",
            "\n",
            " [[6.51204365e-02 6.66713302e-02 4.52606919e-02]\n",
            "  [3.93996056e-01 5.42416274e-01 3.57418449e-01]\n",
            "  [7.60243752e-02 1.71689698e-01 5.86891744e-02]\n",
            "  [1.71349971e-01 1.20642518e-01 5.04398963e-02]\n",
            "  [2.67964712e-01 6.48969311e-01 4.97555671e-01]]\n",
            "\n",
            " [[2.06473667e-02 3.10552869e-02 3.16231697e-03]\n",
            "  [4.21822122e-01 1.70620727e-01 3.29211997e-01]\n",
            "  [4.93578684e-04 4.90105075e-04 2.24716231e-04]\n",
            "  [3.77006293e-02 1.15513535e-02 2.77162961e-01]\n",
            "  [7.18456460e-02 2.77780086e-02 2.99772646e-02]]\n",
            "\n",
            " [[5.99125590e-01 3.67180863e-01 4.55922447e-01]\n",
            "  [4.37353243e-02 3.17719171e-02 4.62294391e-03]\n",
            "  [1.92324640e-01 2.90812626e-01 3.02659977e-02]\n",
            "  [9.92215680e-02 1.38400542e-01 3.31917301e-01]\n",
            "  [4.55876955e-02 1.91814459e-01 3.58308645e-01]]]\n"
          ]
        }
      ],
      "source": [
        "import numpy as np\n",
        "\n",
        "# Create arrays with specified dimensions\n",
        "array_3d = np.random.rand(5, 5, 3)\n",
        "array_2d = np.random.rand(5, 5)\n",
        "\n",
        "# Multiply the 3D array by the 2D array using broadcasting\n",
        "result_array = array_3d * array_2d[:, :, np.newaxis]\n",
        "\n",
        "# Print the result\n",
        "print(\"Array with dimensions (5, 5, 3):\\n\", array_3d)\n",
        "print(\"\\nArray with dimensions (5, 5):\\n\", array_2d)\n",
        "print(\"\\nResult after multiplication:\\n\", result_array)"
      ],
      "id": "282a90cc"
    },
    {
      "cell_type": "markdown",
      "metadata": {
        "id": "a951c78f"
      },
      "source": [
        "#### 72. How to swap two rows of an array? (★★★)"
      ],
      "id": "a951c78f"
    },
    {
      "cell_type": "code",
      "execution_count": null,
      "metadata": {
        "id": "e29b3fde",
        "colab": {
          "base_uri": "https://localhost:8080/"
        },
        "outputId": "df77d2fe-f6cb-4b14-a344-be4973d0417d"
      },
      "outputs": [
        {
          "output_type": "stream",
          "name": "stdout",
          "text": [
            "Original Array:\n",
            " [[7 8 9]\n",
            " [4 5 6]\n",
            " [1 2 3]]\n"
          ]
        }
      ],
      "source": [
        "import numpy as np\n",
        "\n",
        "# Create a sample 2D array\n",
        "array_2d = np.array([[1, 2, 3],\n",
        "                     [4, 5, 6],\n",
        "                     [7, 8, 9]])\n",
        "\n",
        "# Swap rows (e.g., swapping the first and third rows)\n",
        "array_2d[[0, 2]] = array_2d[[2, 0]]\n",
        "\n",
        "# Print the result\n",
        "print(\"Original Array:\\n\", array_2d)"
      ],
      "id": "e29b3fde"
    },
    {
      "cell_type": "markdown",
      "metadata": {
        "id": "43b639e8"
      },
      "source": [
        "#### 73. Consider a set of 10 triplets describing 10 triangles (with shared vertices), find the set of unique line segments composing all the  triangles (★★★)"
      ],
      "id": "43b639e8"
    },
    {
      "cell_type": "code",
      "execution_count": null,
      "metadata": {
        "id": "147e1034",
        "colab": {
          "base_uri": "https://localhost:8080/"
        },
        "outputId": "7306aa48-2805-4fde-ccf8-9958a3693bad"
      },
      "outputs": [
        {
          "output_type": "stream",
          "name": "stdout",
          "text": [
            "Original Triangles:\n",
            " [[2 1 3]\n",
            " [4 1 8]\n",
            " [7 1 4]\n",
            " [6 6 5]\n",
            " [6 2 7]\n",
            " [9 7 5]\n",
            " [4 5 6]\n",
            " [9 9 6]\n",
            " [9 2 4]\n",
            " [2 7 5]]\n",
            "\n",
            "Unique Line Segments:\n",
            " [[6 2]\n",
            " [7 1]\n",
            " [2 1]\n",
            " [3 4]\n",
            " [6 5]\n",
            " [9 6]\n",
            " [4 6]\n",
            " [1 8]\n",
            " [9 2]\n",
            " [4 2]\n",
            " [7 9]\n",
            " [4 5]\n",
            " [7 5]\n",
            " [6 9]]\n"
          ]
        }
      ],
      "source": [
        "import numpy as np\n",
        "\n",
        "# Sample set of 10 triplets describing triangles\n",
        "triangles = np.random.randint(1, 10, size=(10, 3))\n",
        "\n",
        "# Reshape the triplets to get line segments\n",
        "line_segments = triangles.reshape(-1, 2)\n",
        "\n",
        "# Convert to a set of tuples to remove duplicates\n",
        "unique_line_segments_set = {tuple(segment) for segment in line_segments}\n",
        "\n",
        "# Convert the set back to a NumPy array\n",
        "unique_line_segments = np.array(list(unique_line_segments_set))\n",
        "\n",
        "# Print the result\n",
        "print(\"Original Triangles:\\n\", triangles)\n",
        "print(\"\\nUnique Line Segments:\\n\", unique_line_segments)"
      ],
      "id": "147e1034"
    },
    {
      "cell_type": "markdown",
      "metadata": {
        "id": "d41de585"
      },
      "source": [
        "#### 74. Given a sorted array C that corresponds to a bincount, how to produce an array A such that np.bincount(A) == C? (★★★)"
      ],
      "id": "d41de585"
    },
    {
      "cell_type": "code",
      "execution_count": null,
      "metadata": {
        "id": "5f5d6e36",
        "colab": {
          "base_uri": "https://localhost:8080/"
        },
        "outputId": "09229fc2-de27-4590-a00f-ff2771422532"
      },
      "outputs": [
        {
          "output_type": "stream",
          "name": "stdout",
          "text": [
            "Given Array C: [1 0 2 1 0 1 0 1 3]\n",
            "Produced Array A: [0 2 2 3 5 7 8 8 8]\n",
            "np.bincount(A): [1 0 2 1 0 1 0 1 3]\n"
          ]
        }
      ],
      "source": [
        "import numpy as np\n",
        "\n",
        "# Given sorted array C\n",
        "C = np.array([1, 0, 2, 1, 0, 1, 0, 1, 3])\n",
        "\n",
        "# Produce array A\n",
        "A = np.repeat(np.arange(len(C)), C)\n",
        "\n",
        "# Print the result\n",
        "print(\"Given Array C:\", C)\n",
        "print(\"Produced Array A:\", A)\n",
        "print(\"np.bincount(A):\", np.bincount(A))"
      ],
      "id": "5f5d6e36"
    },
    {
      "cell_type": "markdown",
      "metadata": {
        "id": "b50adf7c"
      },
      "source": [
        "#### 75. How to compute averages using a sliding window over an array? (★★★)"
      ],
      "id": "b50adf7c"
    },
    {
      "cell_type": "code",
      "execution_count": null,
      "metadata": {
        "id": "e631a9d2",
        "outputId": "de95d86b-5f6d-4908-ad9a-009618a6311e",
        "colab": {
          "base_uri": "https://localhost:8080/"
        }
      },
      "outputs": [
        {
          "output_type": "stream",
          "name": "stdout",
          "text": [
            "Original Array: [1 2 3 4 5 6 7 8 9]\n",
            "Averages with a Sliding Window: [2. 3. 4. 5. 6. 7. 8.]\n"
          ]
        }
      ],
      "source": [
        "import numpy as np\n",
        "\n",
        "def sliding_window_average(arr, window_size):\n",
        "    cumsum = np.cumsum(arr)\n",
        "    cumsum[window_size:] = cumsum[window_size:] - cumsum[:-window_size]\n",
        "    return cumsum[window_size - 1:] / window_size\n",
        "\n",
        "# Example usage\n",
        "arr = np.array([1, 2, 3, 4, 5, 6, 7, 8, 9])\n",
        "window_size = 3\n",
        "\n",
        "# Compute averages using a sliding window\n",
        "averages = sliding_window_average(arr, window_size)\n",
        "\n",
        "# Print the result\n",
        "print(\"Original Array:\", arr)\n",
        "print(\"Averages with a Sliding Window:\", averages)"
      ],
      "id": "e631a9d2"
    },
    {
      "cell_type": "markdown",
      "metadata": {
        "id": "1ab4c50d"
      },
      "source": [
        "#### 76. Consider a one-dimensional array Z, build a two-dimensional array whose first row is (Z[0],Z[1],Z[2]) and each subsequent row is  shifted by 1 (last row should be (Z[-3],Z[-2],Z[-1]) (★★★)"
      ],
      "id": "1ab4c50d"
    },
    {
      "cell_type": "code",
      "execution_count": null,
      "metadata": {
        "id": "3ccfe2c0",
        "outputId": "778c250e-b7dc-4db0-a0ba-a7d8e38e6dba",
        "colab": {
          "base_uri": "https://localhost:8080/"
        }
      },
      "outputs": [
        {
          "output_type": "stream",
          "name": "stdout",
          "text": [
            "One-dimensional Array Z: [1 2 3 4 5 6 7 8 9]\n",
            "Resulting Two-dimensional Array:\n",
            "[[1 2 3]\n",
            " [2 3 4]\n",
            " [3 4 5]\n",
            " [4 5 6]\n",
            " [5 6 7]\n",
            " [6 7 8]\n",
            " [7 8 9]]\n"
          ]
        }
      ],
      "source": [
        "import numpy as np\n",
        "\n",
        "# Sample one-dimensional array Z\n",
        "Z = np.array([1, 2, 3, 4, 5, 6, 7, 8, 9])\n",
        "\n",
        "# Build a two-dimensional array with shifted rows\n",
        "result_array = np.lib.stride_tricks.sliding_window_view(Z, (3,))\n",
        "\n",
        "# Print the result\n",
        "print(\"One-dimensional Array Z:\", Z)\n",
        "print(\"Resulting Two-dimensional Array:\")\n",
        "print(result_array)"
      ],
      "id": "3ccfe2c0"
    },
    {
      "cell_type": "markdown",
      "metadata": {
        "id": "5b4fe59d"
      },
      "source": [
        "#### 77. How to negate a boolean, or to change the sign of a float inplace? (★★★)"
      ],
      "id": "5b4fe59d"
    },
    {
      "cell_type": "code",
      "execution_count": null,
      "metadata": {
        "id": "3c2373ff",
        "colab": {
          "base_uri": "https://localhost:8080/"
        },
        "outputId": "b8b65470-9321-4502-9d2c-1ed7ba39890a"
      },
      "outputs": [
        {
          "output_type": "stream",
          "name": "stdout",
          "text": [
            "Original Boolean Array: [False  True False  True]\n"
          ]
        }
      ],
      "source": [
        "import numpy as np\n",
        "\n",
        "# Sample boolean array\n",
        "boolean_array = np.array([True, False, True, False])\n",
        "\n",
        "# Negate the boolean array in-place\n",
        "boolean_array[...] = ~boolean_array\n",
        "\n",
        "# Print the result\n",
        "print(\"Original Boolean Array:\", boolean_array)"
      ],
      "id": "3c2373ff"
    },
    {
      "cell_type": "markdown",
      "metadata": {
        "id": "119ab5af"
      },
      "source": [
        "#### 78. Consider 2 sets of points P0,P1 describing lines (2d) and a point p, how to compute distance from p to each line i (P0[i],P1[i])? (★★★)"
      ],
      "id": "119ab5af"
    },
    {
      "cell_type": "code",
      "execution_count": null,
      "metadata": {
        "id": "1d8d06dc",
        "colab": {
          "base_uri": "https://localhost:8080/"
        },
        "outputId": "37d5f77f-c643-45a8-ad15-0a8395fd8d64"
      },
      "outputs": [
        {
          "output_type": "stream",
          "name": "stdout",
          "text": [
            "Point p: [2 3]\n",
            "Set of points P0: [[1 1]\n",
            " [2 2]\n",
            " [3 3]]\n",
            "Set of points P1: [[4 4]\n",
            " [5 5]\n",
            " [6 6]]\n",
            "Distances to each line: [0.70710678 0.70710678 0.70710678]\n"
          ]
        }
      ],
      "source": [
        "import numpy as np\n",
        "\n",
        "def distance_point_to_line(p, P0, P1):\n",
        "    # Calculate coefficients A, B, and C for each line\n",
        "    A = P1[:, 1] - P0[:, 1]\n",
        "    B = P0[:, 0] - P1[:, 0]\n",
        "    C = P0[:, 1] * P1[:, 0] - P0[:, 0] * P1[:, 1]\n",
        "\n",
        "    # Calculate distances\n",
        "    distances = np.abs(A * p[0] + B * p[1] + C) / np.sqrt(A**2 + B**2)\n",
        "\n",
        "    return distances\n",
        "\n",
        "# Example usage\n",
        "p = np.array([2, 3])  # Point p\n",
        "P0 = np.array([[1, 1], [2, 2], [3, 3]])  # Set of points defining lines\n",
        "P1 = np.array([[4, 4], [5, 5], [6, 6]])\n",
        "\n",
        "# Compute distances from point p to each line\n",
        "distances = distance_point_to_line(p, P0, P1)\n",
        "\n",
        "# Print the result\n",
        "print(\"Point p:\", p)\n",
        "print(\"Set of points P0:\", P0)\n",
        "print(\"Set of points P1:\", P1)\n",
        "print(\"Distances to each line:\", distances)"
      ],
      "id": "1d8d06dc"
    },
    {
      "cell_type": "markdown",
      "metadata": {
        "id": "e5e7f323"
      },
      "source": [
        "#### 79. Consider 2 sets of points P0,P1 describing lines (2d) and a set of points P, how to compute distance from each point j (P[j]) to each line i (P0[i],P1[i])? (★★★)"
      ],
      "id": "e5e7f323"
    },
    {
      "cell_type": "code",
      "execution_count": null,
      "metadata": {
        "id": "d0ce77e2",
        "colab": {
          "base_uri": "https://localhost:8080/"
        },
        "outputId": "eed2dc85-9d64-4786-ea4c-cf51a68ae609"
      },
      "outputs": [
        {
          "output_type": "stream",
          "name": "stdout",
          "text": [
            "Set of points P: [[2 3]\n",
            " [4 5]\n",
            " [6 7]]\n",
            "Set of points P0: [[1 1]\n",
            " [2 2]\n",
            " [3 3]]\n",
            "Set of points P1: [[4 4]\n",
            " [5 5]\n",
            " [6 6]]\n",
            "Distances from each point to each line:\n",
            " [[0.70710678 0.70710678 0.70710678]\n",
            " [0.70710678 0.70710678 0.70710678]\n",
            " [0.70710678 0.70710678 0.70710678]]\n"
          ]
        }
      ],
      "source": [
        "import numpy as np\n",
        "\n",
        "def distance_points_to_lines(P, P0, P1):\n",
        "    # Calculate coefficients A, B, and C for each line\n",
        "    A = P1[:, 1] - P0[:, 1]\n",
        "    B = P0[:, 0] - P1[:, 0]\n",
        "    C = P0[:, 1] * P1[:, 0] - P0[:, 0] * P1[:, 1]\n",
        "\n",
        "    # Calculate distances for each point and each line\n",
        "    distances = np.abs(A[:, np.newaxis] * P[:, 0] + B[:, np.newaxis] * P[:, 1] + C[:, np.newaxis]) / np.sqrt(A**2 + B**2)\n",
        "\n",
        "    return distances\n",
        "\n",
        "# Example usage\n",
        "P = np.array([[2, 3], [4, 5], [6, 7]])  # Set of points P\n",
        "P0 = np.array([[1, 1], [2, 2], [3, 3]])  # Set of points defining lines\n",
        "P1 = np.array([[4, 4], [5, 5], [6, 6]])\n",
        "\n",
        "# Compute distances from each point in set P to each line\n",
        "distances = distance_points_to_lines(P, P0, P1)\n",
        "\n",
        "# Print the result\n",
        "print(\"Set of points P:\", P)\n",
        "print(\"Set of points P0:\", P0)\n",
        "print(\"Set of points P1:\", P1)\n",
        "print(\"Distances from each point to each line:\\n\", distances)"
      ],
      "id": "d0ce77e2"
    },
    {
      "cell_type": "markdown",
      "metadata": {
        "id": "9b9d03eb"
      },
      "source": [
        "#### 80. Consider an arbitrary array, write a function that extract a subpart with a fixed shape and centered on a given element (pad with a `fill` value when necessary) (★★★)"
      ],
      "id": "9b9d03eb"
    },
    {
      "cell_type": "code",
      "execution_count": null,
      "metadata": {
        "id": "ec2b7ae3",
        "colab": {
          "base_uri": "https://localhost:8080/"
        },
        "outputId": "571d733f-7c03-4831-cbb6-9c61ba1229db"
      },
      "outputs": [
        {
          "output_type": "stream",
          "name": "stdout",
          "text": [
            "Original Array:\n",
            " [[1 9 0 9 1]\n",
            " [7 5 2 2 0]\n",
            " [8 2 4 0 1]\n",
            " [0 3 9 0 5]\n",
            " [9 1 1 2 9]]\n",
            "\n",
            "Extracted Subpart:\n",
            " [[5 2 2]\n",
            " [2 4 0]\n",
            " [3 9 0]]\n"
          ]
        }
      ],
      "source": [
        "import numpy as np\n",
        "\n",
        "def extract_subpart(array, center, shape, fill_value=0):\n",
        "    \"\"\"\n",
        "    Extract a subpart from the array centered on the given element.\n",
        "\n",
        "    Parameters:\n",
        "    - array: The input array.\n",
        "    - center: The center element for the subpart.\n",
        "    - shape: The desired shape of the subpart.\n",
        "    - fill_value: The value used for padding if necessary.\n",
        "\n",
        "    Returns:\n",
        "    - subpart: The extracted subpart.\n",
        "    \"\"\"\n",
        "\n",
        "    # Calculate the starting indices for the subpart\n",
        "    start_indices = np.maximum(center - np.array(shape) // 2, 0)\n",
        "\n",
        "    # Calculate the ending indices for the subpart\n",
        "    end_indices = start_indices + shape\n",
        "\n",
        "    # Calculate the padding required at the beginning and end\n",
        "    pad_before = np.maximum(0, start_indices - (center - np.array(shape) // 2))\n",
        "    pad_after = np.maximum(0, end_indices - np.array(array.shape))\n",
        "\n",
        "    # Create a slice object for each dimension\n",
        "    slices = tuple(slice(start, end) for start, end in zip(start_indices - pad_before, end_indices + pad_after))\n",
        "\n",
        "    # Create the subpart array\n",
        "    subpart = np.full(shape, fill_value)\n",
        "\n",
        "    # Copy the values from the original array to the subpart\n",
        "    subpart[pad_before[0]:shape[0] - pad_after[0], pad_before[1]:shape[1] - pad_after[1]] = array[slices]\n",
        "\n",
        "    return subpart\n",
        "\n",
        "# Example usage\n",
        "original_array = np.random.randint(0, 10, size=(5, 5))\n",
        "center_element = (2, 2)\n",
        "desired_shape = (3, 3)\n",
        "\n",
        "subpart_result = extract_subpart(original_array, center_element, desired_shape, fill_value=-1)\n",
        "\n",
        "# Print the result\n",
        "print(\"Original Array:\\n\", original_array)\n",
        "print(\"\\nExtracted Subpart:\\n\", subpart_result)"
      ],
      "id": "ec2b7ae3"
    },
    {
      "cell_type": "markdown",
      "metadata": {
        "id": "27794913"
      },
      "source": [
        "#### 81. Consider an array Z = [1,2,3,4,5,6,7,8,9,10,11,12,13,14], how to generate an array R = [[1,2,3,4], [2,3,4,5], [3,4,5,6], ..., [11,12,13,14]]? (★★★)"
      ],
      "id": "27794913"
    },
    {
      "cell_type": "code",
      "execution_count": null,
      "metadata": {
        "id": "f3e7878b",
        "colab": {
          "base_uri": "https://localhost:8080/"
        },
        "outputId": "779b227a-cd5a-44bc-b0c1-f3d970439874"
      },
      "outputs": [
        {
          "output_type": "stream",
          "name": "stdout",
          "text": [
            "Array Z: [ 1  2  3  4  5  6  7  8  9 10 11 12 13 14]\n",
            "\n",
            "Generated Array R:\n",
            "[[ 1  2  3  4]\n",
            " [ 2  3  4  5]\n",
            " [ 3  4  5  6]\n",
            " [ 4  5  6  7]\n",
            " [ 5  6  7  8]\n",
            " [ 6  7  8  9]\n",
            " [ 7  8  9 10]\n",
            " [ 8  9 10 11]\n",
            " [ 9 10 11 12]\n",
            " [10 11 12 13]\n",
            " [11 12 13 14]]\n"
          ]
        }
      ],
      "source": [
        "import numpy as np\n",
        "\n",
        "# Given array Z\n",
        "Z = np.array([1, 2, 3, 4, 5, 6, 7, 8, 9, 10, 11, 12, 13, 14])\n",
        "\n",
        "# Desired length of each subarray in R\n",
        "subarray_length = 4\n",
        "\n",
        "# Generate array R using array slicing\n",
        "R = np.lib.stride_tricks.sliding_window_view(Z, (subarray_length,))\n",
        "\n",
        "# Print the result\n",
        "print(\"Array Z:\", Z)\n",
        "print(\"\\nGenerated Array R:\")\n",
        "print(R)"
      ],
      "id": "f3e7878b"
    },
    {
      "cell_type": "markdown",
      "metadata": {
        "id": "fae786f5"
      },
      "source": [
        "#### 82. Compute a matrix rank (★★★)"
      ],
      "id": "fae786f5"
    },
    {
      "cell_type": "code",
      "execution_count": null,
      "metadata": {
        "id": "64b9615b",
        "outputId": "b236fd0e-6ddd-4011-e6a8-55fae2341d4a",
        "colab": {
          "base_uri": "https://localhost:8080/"
        }
      },
      "outputs": [
        {
          "output_type": "stream",
          "name": "stdout",
          "text": [
            "Matrix:\n",
            "[[1 2 3]\n",
            " [4 5 6]\n",
            " [7 8 9]]\n",
            "\n",
            "Rank of the matrix: 2\n"
          ]
        }
      ],
      "source": [
        "import numpy as np\n",
        "\n",
        "# Create a sample matrix\n",
        "matrix = np.array([[1, 2, 3],\n",
        "                   [4, 5, 6],\n",
        "                   [7, 8, 9]])\n",
        "\n",
        "# Compute the rank of the matrix\n",
        "rank = np.linalg.matrix_rank(matrix)\n",
        "\n",
        "# Print the result\n",
        "print(\"Matrix:\")\n",
        "print(matrix)\n",
        "print(\"\\nRank of the matrix:\", rank)"
      ],
      "id": "64b9615b"
    },
    {
      "cell_type": "markdown",
      "metadata": {
        "id": "c85aa0b9"
      },
      "source": [
        "#### 83. How to find the most frequent value in an array?"
      ],
      "id": "c85aa0b9"
    },
    {
      "cell_type": "code",
      "execution_count": null,
      "metadata": {
        "id": "056be85b",
        "outputId": "50ad8aac-d247-4874-a50e-47021adaeab9",
        "colab": {
          "base_uri": "https://localhost:8080/"
        }
      },
      "outputs": [
        {
          "output_type": "stream",
          "name": "stdout",
          "text": [
            "Array: [1 2 2 3 3 3 4 4 4 4 5]\n",
            "Most frequent value: 4\n"
          ]
        }
      ],
      "source": [
        "import numpy as np\n",
        "\n",
        "# Create a sample array\n",
        "array = np.array([1, 2, 2, 3, 3, 3, 4, 4, 4, 4, 5])\n",
        "\n",
        "# Find the most frequent value\n",
        "most_frequent_value = np.argmax(np.bincount(array))\n",
        "\n",
        "# Print the result\n",
        "print(\"Array:\", array)\n",
        "print(\"Most frequent value:\", most_frequent_value)"
      ],
      "id": "056be85b"
    },
    {
      "cell_type": "markdown",
      "metadata": {
        "id": "0ff2344d"
      },
      "source": [
        "#### 84. Extract all the contiguous 3x3 blocks from a random 10x10 matrix (★★★)"
      ],
      "id": "0ff2344d"
    },
    {
      "cell_type": "code",
      "execution_count": null,
      "metadata": {
        "id": "d58b1318",
        "outputId": "9032f9d2-8a90-4317-cc8a-f4b8805da606",
        "colab": {
          "base_uri": "https://localhost:8080/"
        }
      },
      "outputs": [
        {
          "output_type": "stream",
          "name": "stdout",
          "text": [
            "Original Matrix:\n",
            "[[7 4 3 2 5 8 1 2 1 1]\n",
            " [7 5 6 1 1 6 8 7 8 7]\n",
            " [9 8 0 0 1 3 9 9 9 1]\n",
            " [6 4 0 2 2 5 0 2 8 6]\n",
            " [5 7 5 6 2 5 5 0 1 4]\n",
            " [5 2 8 2 9 6 3 1 7 7]\n",
            " [8 8 9 5 6 6 9 5 0 6]\n",
            " [3 9 1 7 3 6 7 4 8 8]\n",
            " [5 7 1 5 0 9 8 1 6 5]\n",
            " [0 2 8 1 5 7 9 9 2 2]]\n",
            "\n",
            "Extracted 3x3 Blocks:\n",
            "[[7 4 3]\n",
            " [7 5 6]\n",
            " [9 8 0]]\n",
            "---\n",
            "[[4 3 2]\n",
            " [5 6 1]\n",
            " [8 0 0]]\n",
            "---\n",
            "[[3 2 5]\n",
            " [6 1 1]\n",
            " [0 0 1]]\n",
            "---\n",
            "[[2 5 8]\n",
            " [1 1 6]\n",
            " [0 1 3]]\n",
            "---\n",
            "[[5 8 1]\n",
            " [1 6 8]\n",
            " [1 3 9]]\n",
            "---\n",
            "[[8 1 2]\n",
            " [6 8 7]\n",
            " [3 9 9]]\n",
            "---\n",
            "[[1 2 1]\n",
            " [8 7 8]\n",
            " [9 9 9]]\n",
            "---\n",
            "[[2 1 1]\n",
            " [7 8 7]\n",
            " [9 9 1]]\n",
            "---\n",
            "[[7 5 6]\n",
            " [9 8 0]\n",
            " [6 4 0]]\n",
            "---\n",
            "[[5 6 1]\n",
            " [8 0 0]\n",
            " [4 0 2]]\n",
            "---\n",
            "[[6 1 1]\n",
            " [0 0 1]\n",
            " [0 2 2]]\n",
            "---\n",
            "[[1 1 6]\n",
            " [0 1 3]\n",
            " [2 2 5]]\n",
            "---\n",
            "[[1 6 8]\n",
            " [1 3 9]\n",
            " [2 5 0]]\n",
            "---\n",
            "[[6 8 7]\n",
            " [3 9 9]\n",
            " [5 0 2]]\n",
            "---\n",
            "[[8 7 8]\n",
            " [9 9 9]\n",
            " [0 2 8]]\n",
            "---\n",
            "[[7 8 7]\n",
            " [9 9 1]\n",
            " [2 8 6]]\n",
            "---\n",
            "[[9 8 0]\n",
            " [6 4 0]\n",
            " [5 7 5]]\n",
            "---\n",
            "[[8 0 0]\n",
            " [4 0 2]\n",
            " [7 5 6]]\n",
            "---\n",
            "[[0 0 1]\n",
            " [0 2 2]\n",
            " [5 6 2]]\n",
            "---\n",
            "[[0 1 3]\n",
            " [2 2 5]\n",
            " [6 2 5]]\n",
            "---\n",
            "[[1 3 9]\n",
            " [2 5 0]\n",
            " [2 5 5]]\n",
            "---\n",
            "[[3 9 9]\n",
            " [5 0 2]\n",
            " [5 5 0]]\n",
            "---\n",
            "[[9 9 9]\n",
            " [0 2 8]\n",
            " [5 0 1]]\n",
            "---\n",
            "[[9 9 1]\n",
            " [2 8 6]\n",
            " [0 1 4]]\n",
            "---\n",
            "[[6 4 0]\n",
            " [5 7 5]\n",
            " [5 2 8]]\n",
            "---\n",
            "[[4 0 2]\n",
            " [7 5 6]\n",
            " [2 8 2]]\n",
            "---\n",
            "[[0 2 2]\n",
            " [5 6 2]\n",
            " [8 2 9]]\n",
            "---\n",
            "[[2 2 5]\n",
            " [6 2 5]\n",
            " [2 9 6]]\n",
            "---\n",
            "[[2 5 0]\n",
            " [2 5 5]\n",
            " [9 6 3]]\n",
            "---\n",
            "[[5 0 2]\n",
            " [5 5 0]\n",
            " [6 3 1]]\n",
            "---\n",
            "[[0 2 8]\n",
            " [5 0 1]\n",
            " [3 1 7]]\n",
            "---\n",
            "[[2 8 6]\n",
            " [0 1 4]\n",
            " [1 7 7]]\n",
            "---\n",
            "[[5 7 5]\n",
            " [5 2 8]\n",
            " [8 8 9]]\n",
            "---\n",
            "[[7 5 6]\n",
            " [2 8 2]\n",
            " [8 9 5]]\n",
            "---\n",
            "[[5 6 2]\n",
            " [8 2 9]\n",
            " [9 5 6]]\n",
            "---\n",
            "[[6 2 5]\n",
            " [2 9 6]\n",
            " [5 6 6]]\n",
            "---\n",
            "[[2 5 5]\n",
            " [9 6 3]\n",
            " [6 6 9]]\n",
            "---\n",
            "[[5 5 0]\n",
            " [6 3 1]\n",
            " [6 9 5]]\n",
            "---\n",
            "[[5 0 1]\n",
            " [3 1 7]\n",
            " [9 5 0]]\n",
            "---\n",
            "[[0 1 4]\n",
            " [1 7 7]\n",
            " [5 0 6]]\n",
            "---\n",
            "[[5 2 8]\n",
            " [8 8 9]\n",
            " [3 9 1]]\n",
            "---\n",
            "[[2 8 2]\n",
            " [8 9 5]\n",
            " [9 1 7]]\n",
            "---\n",
            "[[8 2 9]\n",
            " [9 5 6]\n",
            " [1 7 3]]\n",
            "---\n",
            "[[2 9 6]\n",
            " [5 6 6]\n",
            " [7 3 6]]\n",
            "---\n",
            "[[9 6 3]\n",
            " [6 6 9]\n",
            " [3 6 7]]\n",
            "---\n",
            "[[6 3 1]\n",
            " [6 9 5]\n",
            " [6 7 4]]\n",
            "---\n",
            "[[3 1 7]\n",
            " [9 5 0]\n",
            " [7 4 8]]\n",
            "---\n",
            "[[1 7 7]\n",
            " [5 0 6]\n",
            " [4 8 8]]\n",
            "---\n",
            "[[8 8 9]\n",
            " [3 9 1]\n",
            " [5 7 1]]\n",
            "---\n",
            "[[8 9 5]\n",
            " [9 1 7]\n",
            " [7 1 5]]\n",
            "---\n",
            "[[9 5 6]\n",
            " [1 7 3]\n",
            " [1 5 0]]\n",
            "---\n",
            "[[5 6 6]\n",
            " [7 3 6]\n",
            " [5 0 9]]\n",
            "---\n",
            "[[6 6 9]\n",
            " [3 6 7]\n",
            " [0 9 8]]\n",
            "---\n",
            "[[6 9 5]\n",
            " [6 7 4]\n",
            " [9 8 1]]\n",
            "---\n",
            "[[9 5 0]\n",
            " [7 4 8]\n",
            " [8 1 6]]\n",
            "---\n",
            "[[5 0 6]\n",
            " [4 8 8]\n",
            " [1 6 5]]\n",
            "---\n",
            "[[3 9 1]\n",
            " [5 7 1]\n",
            " [0 2 8]]\n",
            "---\n",
            "[[9 1 7]\n",
            " [7 1 5]\n",
            " [2 8 1]]\n",
            "---\n",
            "[[1 7 3]\n",
            " [1 5 0]\n",
            " [8 1 5]]\n",
            "---\n",
            "[[7 3 6]\n",
            " [5 0 9]\n",
            " [1 5 7]]\n",
            "---\n",
            "[[3 6 7]\n",
            " [0 9 8]\n",
            " [5 7 9]]\n",
            "---\n",
            "[[6 7 4]\n",
            " [9 8 1]\n",
            " [7 9 9]]\n",
            "---\n",
            "[[7 4 8]\n",
            " [8 1 6]\n",
            " [9 9 2]]\n",
            "---\n",
            "[[4 8 8]\n",
            " [1 6 5]\n",
            " [9 2 2]]\n",
            "---\n"
          ]
        }
      ],
      "source": [
        "import numpy as np\n",
        "\n",
        "# Create a random 10x10 matrix\n",
        "matrix = np.random.randint(0, 10, (10, 10))\n",
        "\n",
        "# Define the block size\n",
        "block_size = 3\n",
        "\n",
        "# Calculate the number of blocks in each dimension\n",
        "num_blocks = matrix.shape[0] - block_size + 1\n",
        "\n",
        "# Extract all contiguous 3x3 blocks\n",
        "blocks = [matrix[i:i+block_size, j:j+block_size] for i in range(num_blocks) for j in range(num_blocks)]\n",
        "\n",
        "# Print the result\n",
        "print(\"Original Matrix:\")\n",
        "print(matrix)\n",
        "print(\"\\nExtracted 3x3 Blocks:\")\n",
        "for block in blocks:\n",
        "    print(block)\n",
        "    print(\"---\")"
      ],
      "id": "d58b1318"
    },
    {
      "cell_type": "markdown",
      "metadata": {
        "id": "1a18b263"
      },
      "source": [
        "#### 85. Create a 2D array subclass such that Z[i,j] == Z[j,i] (★★★)"
      ],
      "id": "1a18b263"
    },
    {
      "cell_type": "code",
      "execution_count": null,
      "metadata": {
        "id": "87f17adc",
        "outputId": "cfaf5310-647e-4ae7-9d9b-b45425411705",
        "colab": {
          "base_uri": "https://localhost:8080/"
        }
      },
      "outputs": [
        {
          "output_type": "stream",
          "name": "stdout",
          "text": [
            "Modified Symmetric Array:\n",
            "[[    102011622240099                   0 2915076257986117642\n",
            "                  177     101991024266320]\n",
            " [    136211433356672 8463143498686426716 7310010098915569762\n",
            "  2318265469631231347 7598827541045470498]\n",
            " [8389772277106830959     137654526032418     101991022607024\n",
            "                   42     136211433356512]\n",
            " [    101991024376416 8316292945849511796                  42\n",
            "  8319593408216003954 7310028807574876773]\n",
            " [4189037521560761203 8319593408217578272 7019267257156989541\n",
            "  6566312176345508962                 432]]\n"
          ]
        }
      ],
      "source": [
        "\n",
        "import numpy as np\n",
        "\n",
        "class SymmetricArray(np.ndarray):\n",
        "    def __setitem__(self, index, value):\n",
        "        # Ensure the symmetric condition when setting values\n",
        "        i, j = index\n",
        "        super(SymmetricArray, self).__setitem__((i, j), value)\n",
        "        super(SymmetricArray, self).__setitem__((j, i), value)\n",
        "\n",
        "# Create a sample symmetric array\n",
        "size = 5\n",
        "symmetric_array = SymmetricArray((size, size), dtype=int)\n",
        "\n",
        "# Modify values and observe the symmetry\n",
        "symmetric_array[2, 3] = 42\n",
        "print(\"Modified Symmetric Array:\")\n",
        "print(symmetric_array)"
      ],
      "id": "87f17adc"
    },
    {
      "cell_type": "markdown",
      "metadata": {
        "id": "f85f2cad"
      },
      "source": [
        "#### 86. Consider a set of p matrices wich shape (n,n) and a set of p vectors with shape (n,1). How to compute the sum of of the p matrix products at once? (result has shape (n,1)) (★★★)"
      ],
      "id": "f85f2cad"
    },
    {
      "cell_type": "code",
      "execution_count": null,
      "metadata": {
        "id": "8d230557",
        "colab": {
          "base_uri": "https://localhost:8080/"
        },
        "outputId": "6a207181-8bb5-438e-e5a5-01238dd87b49"
      },
      "outputs": [
        {
          "output_type": "stream",
          "name": "stdout",
          "text": [
            "[[3.08441904]\n",
            " [2.26079004]\n",
            " [2.81836048]\n",
            " [1.62418705]]\n"
          ]
        }
      ],
      "source": [
        "import numpy as np\n",
        "\n",
        "def sum_of_matrix_products(matrices, vectors):\n",
        "    # Ensure that the number of matrices and vectors match\n",
        "    assert len(matrices) == len(vectors), \"Number of matrices and vectors must be the same.\"\n",
        "\n",
        "    # Convert the matrices and vectors to numpy arrays\n",
        "    matrices = np.array(matrices)\n",
        "    vectors = np.array(vectors)\n",
        "\n",
        "    # Perform the matrix multiplication and sum along the specified axis\n",
        "    result = np.sum(matrices @ vectors, axis=0)\n",
        "\n",
        "    return result\n",
        "\n",
        "# Example usage:\n",
        "p = 3  # Number of matrices and vectors\n",
        "n = 4  # Size of matrices and vectors\n",
        "\n",
        "# Create a set of p matrices with shape (n, n)\n",
        "matrices = [np.random.rand(n, n) for _ in range(p)]\n",
        "\n",
        "# Create a set of p vectors with shape (n, 1)\n",
        "vectors = [np.random.rand(n, 1) for _ in range(p)]\n",
        "\n",
        "# Compute the sum of the matrix products\n",
        "result = sum_of_matrix_products(matrices, vectors)\n",
        "\n",
        "print(result)\n"
      ],
      "id": "8d230557"
    },
    {
      "cell_type": "markdown",
      "metadata": {
        "id": "5afb72c8"
      },
      "source": [
        "#### 87. Consider a 16x16 array, how to get the block-sum (block size is 4x4)? (★★★)"
      ],
      "id": "5afb72c8"
    },
    {
      "cell_type": "code",
      "execution_count": null,
      "metadata": {
        "id": "e86f47a9",
        "colab": {
          "base_uri": "https://localhost:8080/"
        },
        "outputId": "e279bea1-17f8-4be9-f63c-fc6ecaa378d3"
      },
      "outputs": [
        {
          "output_type": "stream",
          "name": "stdout",
          "text": [
            "Original Array:\n",
            "[[6 8 9 3 3 9 1 2 4 3 6 3 2 9 2 3]\n",
            " [3 6 9 2 7 7 9 9 1 7 9 2 8 9 1 9]\n",
            " [4 4 7 1 1 5 2 6 5 3 7 5 8 7 6 6]\n",
            " [5 6 4 5 5 2 5 5 7 9 3 4 7 9 4 1]\n",
            " [9 3 7 4 1 7 7 3 5 6 6 8 7 4 1 7]\n",
            " [7 1 5 5 7 9 5 1 1 2 9 4 3 5 9 9]\n",
            " [3 4 7 4 3 1 8 5 4 7 2 7 4 4 7 4]\n",
            " [8 9 2 5 7 8 8 9 5 8 2 6 4 8 4 1]\n",
            " [5 4 9 9 5 9 6 2 1 1 6 6 3 3 9 9]\n",
            " [5 4 1 1 3 1 5 4 2 3 1 3 4 5 4 7]\n",
            " [9 2 2 6 3 9 4 4 5 8 2 7 8 8 7 4]\n",
            " [4 3 9 7 8 6 6 1 5 3 3 1 9 8 2 6]\n",
            " [2 7 9 4 7 6 9 2 1 8 4 9 1 5 2 8]\n",
            " [6 5 4 1 8 3 8 8 9 4 3 8 8 5 5 9]\n",
            " [4 1 7 4 3 8 6 4 8 7 5 2 1 4 3 1]\n",
            " [2 9 9 7 7 1 2 5 8 6 3 7 6 6 9 2]]\n",
            "\n",
            "Block Sums:\n",
            "[[82 78 78 91]\n",
            " [83 89 82 81]\n",
            " [80 76 57 96]\n",
            " [81 87 92 75]]\n"
          ]
        }
      ],
      "source": [
        "import numpy as np\n",
        "\n",
        "# Create a 16x16 array\n",
        "array_16x16 = np.random.randint(1, 10, size=(16, 16))\n",
        "\n",
        "# Define the block size\n",
        "block_size = 4\n",
        "\n",
        "# Reshape the array into blocks\n",
        "blocks = array_16x16.reshape(array_16x16.shape[0] // block_size, block_size,\n",
        "                              array_16x16.shape[1] // block_size, block_size)\n",
        "\n",
        "# Calculate the sum of each block\n",
        "block_sums = np.sum(blocks, axis=(1, 3))\n",
        "\n",
        "print(\"Original Array:\")\n",
        "print(array_16x16)\n",
        "print(\"\\nBlock Sums:\")\n",
        "print(block_sums)\n"
      ],
      "id": "e86f47a9"
    },
    {
      "cell_type": "markdown",
      "metadata": {
        "id": "6094d37c"
      },
      "source": [
        "#### 88. How to implement the Game of Life using numpy arrays? (★★★)"
      ],
      "id": "6094d37c"
    },
    {
      "cell_type": "code",
      "execution_count": null,
      "metadata": {
        "id": "a93e715f",
        "colab": {
          "base_uri": "https://localhost:8080/",
          "height": 581
        },
        "outputId": "2e638205-1759-414a-a447-f16a0e4a325f"
      },
      "outputs": [
        {
          "output_type": "stream",
          "name": "stderr",
          "text": [
            "<ipython-input-23-9cfbbf862e5b>:43: UserWarning: You passed in an explicit save_count=50 which is being ignored in favor of frames=10.\n",
            "  ani = animation.FuncAnimation(fig, update, fargs=(img, grid, N),\n"
          ]
        },
        {
          "output_type": "display_data",
          "data": {
            "text/plain": [
              "<Figure size 600x600 with 1 Axes>"
            ],
            "image/png": "[encoded data removed]"
          },
          "metadata": {}
        }
      ],
      "source": [
        "import numpy as np\n",
        "import matplotlib.pyplot as plt\n",
        "import matplotlib.animation as animation\n",
        "\n",
        "# Define the colors\n",
        "ON = 255\n",
        "OFF = 0\n",
        "\n",
        "def update(frameNum, img, grid, N):\n",
        "    newGrid = grid.copy()\n",
        "    for i in range(N):\n",
        "        for j in range(N):\n",
        "            # Compute the sum of the eight neighbors\n",
        "            total = int((grid[i, (j-1)%N] + grid[i, (j+1)%N] +\n",
        "                         grid[(i-1)%N, j] + grid[(i+1)%N, j] +\n",
        "                         grid[(i-1)%N, (j-1)%N] + grid[(i-1)%N, (j+1)%N] +\n",
        "                         grid[(i+1)%N, (j-1)%N] + grid[(i+1)%N, (j+1)%N])/255)\n",
        "\n",
        "            # Apply the rules of the Game of Life\n",
        "            if grid[i, j] == ON:\n",
        "                if (total < 2) or (total > 3):\n",
        "                    newGrid[i, j] = OFF\n",
        "            else:\n",
        "                if total == 3:\n",
        "                    newGrid[i, j] = ON\n",
        "\n",
        "    img.set_data(newGrid)\n",
        "    grid[:] = newGrid[:]\n",
        "    return img\n",
        "\n",
        "# Set the size of the grid\n",
        "N = 100\n",
        "\n",
        "# Set the initial state randomly\n",
        "grid = np.random.choice([ON, OFF], N*N, p=[0.2, 0.8]).reshape(N, N)\n",
        "\n",
        "# Set the figure size\n",
        "fig, ax = plt.subplots()\n",
        "fig.set_size_inches(6, 6)\n",
        "\n",
        "# Create an animation\n",
        "img = ax.imshow(grid, interpolation='nearest')\n",
        "ani = animation.FuncAnimation(fig, update, fargs=(img, grid, N),\n",
        "                              frames=10, interval=50, save_count=50)\n",
        "\n",
        "plt.show()\n"
      ],
      "id": "a93e715f"
    },
    {
      "cell_type": "markdown",
      "metadata": {
        "id": "a173cf96"
      },
      "source": [
        "#### 89. How to get the n largest values of an array (★★★)"
      ],
      "id": "a173cf96"
    },
    {
      "cell_type": "code",
      "execution_count": null,
      "metadata": {
        "id": "b7c2ff35",
        "colab": {
          "base_uri": "https://localhost:8080/",
          "height": 616
        },
        "outputId": "5447666e-e550-4380-ed5a-e1cb03efe3a5"
      },
      "outputs": [
        {
          "output_type": "stream",
          "name": "stderr",
          "text": [
            "<ipython-input-25-a1be0a69e1d6>:41: UserWarning: You passed in an explicit save_count=50 which is being ignored in favor of frames=10.\n",
            "  ani = animation.FuncAnimation(fig, update, fargs=(img, grid, N),\n",
            "/usr/local/lib/python3.10/dist-packages/matplotlib/animation.py:884: UserWarning: Animation was deleted without rendering anything. This is most likely not intended. To prevent deletion, assign the Animation to a variable, e.g. `anim`, that exists until you output the Animation using `plt.show()` or `anim.save()`.\n",
            "  warnings.warn(\n"
          ]
        },
        {
          "output_type": "display_data",
          "data": {
            "text/plain": [
              "<Figure size 600x600 with 1 Axes>"
            ],
            "image/png": "[encoded data removed]"
          },
          "metadata": {}
        }
      ],
      "source": [
        "import numpy as np\n",
        "import matplotlib.pyplot as plt\n",
        "import matplotlib.animation as animation\n",
        "\n",
        "# Define cell states\n",
        "ON = 255\n",
        "OFF = 0\n",
        "\n",
        "def update(frameNum, img, grid, N):\n",
        "    newGrid = grid.copy()\n",
        "    for i in range(N):\n",
        "        for j in range(N):\n",
        "            total = int((grid[i, (j-1)%N] + grid[i, (j+1)%N] +\n",
        "                         grid[(i-1)%N, j] + grid[(i+1)%N, j] +\n",
        "                         grid[(i-1)%N, (j-1)%N] + grid[(i-1)%N, (j+1)%N] +\n",
        "                         grid[(i+1)%N, (j-1)%N] + grid[(i+1)%N, (j+1)%N])/255)\n",
        "\n",
        "            if grid[i, j] == ON:\n",
        "                if (total < 2) or (total > 3):\n",
        "                    newGrid[i, j] = OFF\n",
        "            else:\n",
        "                if total == 3:\n",
        "                    newGrid[i, j] = ON\n",
        "\n",
        "    img.set_data(newGrid)\n",
        "    grid[:] = newGrid[:]\n",
        "    return img\n",
        "\n",
        "# Set the size of the grid\n",
        "N = 100\n",
        "\n",
        "# Set the initial state randomly\n",
        "grid = np.random.choice([ON, OFF], N*N, p=[0.2, 0.8]).reshape(N, N)\n",
        "\n",
        "# Set the figure size\n",
        "fig, ax = plt.subplots()\n",
        "fig.set_size_inches(6, 6)\n",
        "\n",
        "# Create an animation\n",
        "img = ax.imshow(grid, interpolation='nearest')\n",
        "ani = animation.FuncAnimation(fig, update, fargs=(img, grid, N),\n",
        "                              frames=10, interval=50, save_count=50)\n",
        "\n",
        "plt.show()\n"
      ],
      "id": "b7c2ff35"
    },
    {
      "cell_type": "markdown",
      "metadata": {
        "id": "15db2d01"
      },
      "source": [
        "#### 90. Given an arbitrary number of vectors, build the cartesian product (every combinations of every item) (★★★)"
      ],
      "id": "15db2d01"
    },
    {
      "cell_type": "code",
      "execution_count": null,
      "metadata": {
        "id": "a9a4633d"
      },
      "outputs": [],
      "source": [
        "from itertools import product\n",
        "\n",
        "def cartesian_product(*vectors):\n",
        "    return list(product(*vectors))\n",
        "\n",
        "# Example usage:\n",
        "vector1 = [1, 2]\n",
        "vector2 = ['a', 'b']\n",
        "vector3 = ['x', 'y']\n",
        "\n",
        "result = cartesian_product(vector1, vector2, vector3)\n",
        "\n",
        "print(result)\n"
      ],
      "id": "a9a4633d"
    },
    {
      "cell_type": "markdown",
      "metadata": {
        "id": "5d94d1ef"
      },
      "source": [
        "#### 91. How to create a record array from a regular array? (★★★)"
      ],
      "id": "5d94d1ef"
    },
    {
      "cell_type": "code",
      "execution_count": null,
      "metadata": {
        "id": "b1dae380",
        "colab": {
          "base_uri": "https://localhost:8080/"
        },
        "outputId": "9a7e7e08-e28c-40f4-abc0-e39547638286"
      },
      "outputs": [
        {
          "output_type": "stream",
          "name": "stdout",
          "text": [
            "[1 2 3]\n",
            "['John' 'Alice' 'Bob']\n",
            "[25 30 22]\n"
          ]
        }
      ],
      "source": [
        "import numpy as np\n",
        "\n",
        "# Create a regular array\n",
        "regular_array = np.array([(1, 'John', 25),\n",
        "                         (2, 'Alice', 30),\n",
        "                         (3, 'Bob', 22)],\n",
        "                        dtype=[('id', int), ('name', 'U10'), ('age', int)])\n",
        "\n",
        "# Convert the regular array to a record array\n",
        "record_array = np.rec.array(regular_array)\n",
        "\n",
        "# Accessing elements in the record array\n",
        "print(record_array['id'])   # array([1, 2, 3])\n",
        "print(record_array['name']) # array(['John', 'Alice', 'Bob'], dtype='<U10')\n",
        "print(record_array['age'])  # array([25, 30, 22])\n"
      ],
      "id": "b1dae380"
    },
    {
      "cell_type": "markdown",
      "metadata": {
        "id": "114ccc36"
      },
      "source": [
        "#### 92. Consider a large vector Z, compute Z to the power of 3 using 3 different methods (★★★)"
      ],
      "id": "114ccc36"
    },
    {
      "cell_type": "code",
      "execution_count": null,
      "metadata": {
        "id": "877c65d6"
      },
      "outputs": [],
      "source": [
        "import numpy as np\n",
        "\n",
        "# Generate a large vector Z\n",
        "Z = np.random.rand(1000000)\n",
        "\n",
        "# Method 1: Element-wise Cubing\n",
        "result1 = Z ** 3\n",
        "\n",
        "# Method 2: Numpy Cubing\n",
        "result2 = np.power(Z, 3)\n",
        "\n",
        "# Method 3: Cubing with Broadcasting\n",
        "result3 = np.power(Z[:, np.newaxis], 3)\n",
        "\n",
        "# Check if all methods yield the same result\n",
        "print(np.allclose(result1, result2) and np.allclose(result1, result3))\n"
      ],
      "id": "877c65d6"
    },
    {
      "cell_type": "markdown",
      "metadata": {
        "id": "d614fee4"
      },
      "source": [
        "#### 93. Consider two arrays A and B of shape (8,3) and (2,2). How to find rows of A that contain elements of each row of B regardless of the order of the elements in B? (★★★)"
      ],
      "id": "d614fee4"
    },
    {
      "cell_type": "code",
      "execution_count": null,
      "metadata": {
        "id": "e6807a84",
        "colab": {
          "base_uri": "https://localhost:8080/"
        },
        "outputId": "1bd68ea8-2c29-4c33-d356-756150e84857"
      },
      "outputs": [
        {
          "output_type": "stream",
          "name": "stdout",
          "text": [
            "Rows of A that contain elements of each row of B:\n",
            "[4]\n"
          ]
        }
      ],
      "source": [
        "import numpy as np\n",
        "\n",
        "# Create arrays A and B\n",
        "A = np.array([[1, 2, 3],\n",
        "              [4, 5, 6],\n",
        "              [7, 8, 9],\n",
        "              [2, 4, 6],\n",
        "              [1, 3, 5],\n",
        "              [8, 7, 9],\n",
        "              [3, 1, 2],\n",
        "              [6, 5, 4]])\n",
        "\n",
        "B = np.array([[1, 3],\n",
        "              [5, 4]])\n",
        "\n",
        "# Find rows of A that contain elements of each row of B\n",
        "result_rows = np.where(np.all(np.isin(A, B), axis=1))[0]\n",
        "\n",
        "print(\"Rows of A that contain elements of each row of B:\")\n",
        "print(result_rows)\n"
      ],
      "id": "e6807a84"
    },
    {
      "cell_type": "markdown",
      "metadata": {
        "id": "b0eedca6"
      },
      "source": [
        "#### 94. Considering a 10x3 matrix, extract rows with unequal values (e.g. [2,2,3]) (★★★)"
      ],
      "id": "b0eedca6"
    },
    {
      "cell_type": "code",
      "execution_count": null,
      "metadata": {
        "id": "fc136ce2",
        "colab": {
          "base_uri": "https://localhost:8080/"
        },
        "outputId": "d1b12992-b39d-4cd7-f9b2-8ae3603952ea"
      },
      "outputs": [
        {
          "metadata": {
            "tags": null
          },
          "name": "stdout",
          "output_type": "stream",
          "text": [
            "Rows with unequal values:\n",
            "[[1 1 1]\n",
            " [2 2 2]\n",
            " [3 3 3]\n",
            " [4 5 4]\n",
            " [2 2 2]\n",
            " [6 6 6]\n",
            " [7 7 7]\n",
            " [8 8 8]\n",
            " [9 9 9]]\n"
          ]
        }
      ],
      "source": [
        "import numpy as np\n",
        "\n",
        "# Create a 10x3 matrix\n",
        "matrix = np.array([[2, 2, 3],\n",
        "                   [1, 1, 1],\n",
        "                   [2, 2, 2],\n",
        "                   [3, 3, 3],\n",
        "                   [4, 5, 4],\n",
        "                   [2, 2, 2],\n",
        "                   [6, 6, 6],\n",
        "                   [7, 7, 7],\n",
        "                   [8, 8, 8],\n",
        "                   [9, 9, 9]])\n",
        "\n",
        "# Extract rows with unequal values\n",
        "unequal_rows = matrix[~np.all(matrix == matrix[0, :], axis=1)]\n",
        "\n",
        "print(\"Rows with unequal values:\")\n",
        "print(unequal_rows)\n"
      ],
      "id": "fc136ce2"
    },
    {
      "cell_type": "markdown",
      "metadata": {
        "id": "a65ec1cf"
      },
      "source": [
        "#### 95. Convert a vector of ints into a matrix binary representation (★★★)"
      ],
      "id": "a65ec1cf"
    },
    {
      "cell_type": "code",
      "execution_count": null,
      "metadata": {
        "id": "323cdf4c",
        "colab": {
          "base_uri": "https://localhost:8080/"
        },
        "outputId": "fdc7661b-1175-46e9-f8c3-80fa0fed9611"
      },
      "outputs": [
        {
          "output_type": "stream",
          "name": "stdout",
          "text": [
            "Vector of Integers:\n",
            "[ 5  3  8 12]\n",
            "\n",
            "Binary Matrix Representation:\n",
            "[[0 0 0 0 0 1 0 1]\n",
            " [0 0 0 0 0 0 1 1]\n",
            " [0 0 0 0 1 0 0 0]\n",
            " [0 0 0 0 1 1 0 0]]\n"
          ]
        }
      ],
      "source": [
        "import numpy as np\n",
        "\n",
        "# Create a vector of integers\n",
        "vector_of_ints = np.array([5, 3, 8, 12], dtype=np.uint8)\n",
        "\n",
        "# Convert each integer to its binary representation\n",
        "binary_strings = np.vectorize(np.binary_repr)(vector_of_ints, width=8)\n",
        "\n",
        "# Create a matrix from the binary strings\n",
        "binary_matrix = np.array([list(s) for s in binary_strings], dtype=int)\n",
        "\n",
        "print(\"Vector of Integers:\")\n",
        "print(vector_of_ints)\n",
        "\n",
        "print(\"\\nBinary Matrix Representation:\")\n",
        "print(binary_matrix)\n"
      ],
      "id": "323cdf4c"
    },
    {
      "cell_type": "markdown",
      "metadata": {
        "id": "75b9397f"
      },
      "source": [
        "#### 96. Given a two dimensional array, how to extract unique rows? (★★★)"
      ],
      "id": "75b9397f"
    },
    {
      "cell_type": "code",
      "execution_count": null,
      "metadata": {
        "id": "9bb56a47",
        "colab": {
          "base_uri": "https://localhost:8080/"
        },
        "outputId": "27b72d73-26df-46b4-b410-1593b25ff2c8"
      },
      "outputs": [
        {
          "output_type": "stream",
          "name": "stdout",
          "text": [
            "Original Array:\n",
            "[[1 2 3]\n",
            " [4 5 6]\n",
            " [1 2 3]\n",
            " [7 8 9]\n",
            " [4 5 6]]\n",
            "\n",
            "Unique Rows:\n",
            "[[1 2 3]\n",
            " [4 5 6]\n",
            " [7 8 9]]\n"
          ]
        }
      ],
      "source": [
        "import numpy as np\n",
        "\n",
        "# Create a two-dimensional array\n",
        "two_dim_array = np.array([[1, 2, 3],\n",
        "                          [4, 5, 6],\n",
        "                          [1, 2, 3],\n",
        "                          [7, 8, 9],\n",
        "                          [4, 5, 6]])\n",
        "\n",
        "# Extract unique rows\n",
        "unique_rows = np.unique(two_dim_array, axis=0)\n",
        "\n",
        "print(\"Original Array:\")\n",
        "print(two_dim_array)\n",
        "\n",
        "print(\"\\nUnique Rows:\")\n",
        "print(unique_rows)\n"
      ],
      "id": "9bb56a47"
    },
    {
      "cell_type": "markdown",
      "metadata": {
        "id": "82aaf21b"
      },
      "source": [
        "#### 97. Considering 2 vectors A & B, write the einsum equivalent of inner, outer, sum, and mul function (★★★)"
      ],
      "id": "82aaf21b"
    },
    {
      "cell_type": "code",
      "execution_count": null,
      "metadata": {
        "id": "cedcefd9",
        "colab": {
          "base_uri": "https://localhost:8080/"
        },
        "outputId": "28afe205-1c9d-4f6b-9110-b5fbfa9d8ada"
      },
      "outputs": [
        {
          "output_type": "stream",
          "name": "stdout",
          "text": [
            "Vector A: [1 2 3]\n",
            "Vector B: [4 5 6]\n",
            "\n",
            "Inner Product: 32\n",
            "Outer Product:\n",
            " [[ 4  5  6]\n",
            " [ 8 10 12]\n",
            " [12 15 18]]\n",
            "Sum: 6\n",
            "Element-wise Product: [ 4 10 18]\n"
          ]
        }
      ],
      "source": [
        "import numpy as np\n",
        "\n",
        "# Define two vectors A and B\n",
        "A = np.array([1, 2, 3])\n",
        "B = np.array([4, 5, 6])\n",
        "\n",
        "# Inner product: sum of element-wise multiplication\n",
        "inner_product = np.einsum('i,i->', A, B)\n",
        "\n",
        "# Outer product: matrix multiplication\n",
        "outer_product = np.einsum('i,j->ij', A, B)\n",
        "\n",
        "# Sum: sum of all elements\n",
        "sum_result = np.einsum('i->', A)\n",
        "\n",
        "# Element-wise multiplication: Hadamard product\n",
        "elementwise_product = np.einsum('i,i->i', A, B)\n",
        "\n",
        "print(\"Vector A:\", A)\n",
        "print(\"Vector B:\", B)\n",
        "\n",
        "print(\"\\nInner Product:\", inner_product)\n",
        "print(\"Outer Product:\\n\", outer_product)\n",
        "print(\"Sum:\", sum_result)\n",
        "print(\"Element-wise Product:\", elementwise_product)\n"
      ],
      "id": "cedcefd9"
    },
    {
      "cell_type": "markdown",
      "metadata": {
        "id": "7741e17f"
      },
      "source": [
        "#### 98. Considering a path described by two vectors (X,Y), how to sample it using equidistant samples (★★★)?"
      ],
      "id": "7741e17f"
    },
    {
      "cell_type": "code",
      "execution_count": null,
      "metadata": {
        "id": "0b2432fe",
        "colab": {
          "base_uri": "https://localhost:8080/",
          "height": 430
        },
        "outputId": "27f4dd40-f5eb-4e48-f845-bd8a7a6eb000"
      },
      "outputs": [
        {
          "output_type": "display_data",
          "data": {
            "text/plain": [
              "<Figure size 640x480 with 1 Axes>"
            ],
            "image/png": "[encoded data removed]"
          },
          "metadata": {}
        }
      ],
      "source": [
        "import numpy as np\n",
        "import matplotlib.pyplot as plt\n",
        "\n",
        "def equidistant_samples(X, Y, num_samples):\n",
        "    total_length = np.sum(np.sqrt(np.diff(X)**2 + np.diff(Y)**2))\n",
        "    step_size = total_length / (num_samples - 1)\n",
        "\n",
        "    distances = np.cumsum(np.sqrt(np.diff(X)**2 + np.diff(Y)**2))\n",
        "    distances = np.insert(distances, 0, 0)  # Insert 0 at the beginning for the starting point\n",
        "\n",
        "    sampled_distances = np.linspace(0, total_length, num_samples)\n",
        "    sampled_X = np.interp(sampled_distances, distances, X)\n",
        "    sampled_Y = np.interp(sampled_distances, distances, Y)\n",
        "\n",
        "    return sampled_X, sampled_Y\n",
        "\n",
        "# Example usage:\n",
        "X = np.array([0, 1, 2, 3, 4, 5])\n",
        "Y = np.array([0, 1, 4, 9, 16, 25])\n",
        "\n",
        "num_samples = 10\n",
        "sampled_X, sampled_Y = equidistant_samples(X, Y, num_samples)\n",
        "\n",
        "# Plot the original path and sampled points\n",
        "plt.plot(X, Y, 'o-', label='Original Path')\n",
        "plt.plot(sampled_X, sampled_Y, 'x', label='Sampled Points')\n",
        "plt.legend()\n",
        "plt.show()\n"
      ],
      "id": "0b2432fe"
    },
    {
      "cell_type": "markdown",
      "metadata": {
        "id": "340d6f36"
      },
      "source": [
        "#### 99. Given an integer n and a 2D array X, select from X the rows which can be interpreted as draws from a multinomial distribution with n degrees, i.e., the rows which only contain integers and which sum to n. (★★★)"
      ],
      "id": "340d6f36"
    },
    {
      "cell_type": "code",
      "execution_count": null,
      "metadata": {
        "id": "a75323ae",
        "colab": {
          "base_uri": "https://localhost:8080/"
        },
        "outputId": "3ad86c1c-cc79-4402-f804-51eec89ec725"
      },
      "outputs": [
        {
          "output_type": "stream",
          "name": "stdout",
          "text": [
            "Original Matrix:\n",
            "[[1 2 2]\n",
            " [3 1 1]\n",
            " [0 5 0]\n",
            " [2 2 1]]\n",
            "\n",
            "Selected Rows for Multinomial Distribution with n = 5\n",
            "[[1 2 2]\n",
            " [3 1 1]\n",
            " [0 5 0]\n",
            " [2 2 1]]\n"
          ]
        }
      ],
      "source": [
        "import numpy as np\n",
        "\n",
        "def is_multinomial_row(row, n):\n",
        "    return np.all(np.equal(np.mod(row, 1), 0)) and np.sum(row) == n\n",
        "\n",
        "def select_multinomial_rows(X, n):\n",
        "    return X[np.array([is_multinomial_row(row, n) for row in X])]\n",
        "\n",
        "# Example usage:\n",
        "n = 5\n",
        "X = np.array([[1, 2, 2],\n",
        "              [3, 1, 1],\n",
        "              [0, 5, 0],\n",
        "              [2, 2, 1]])\n",
        "\n",
        "selected_rows = select_multinomial_rows(X, n)\n",
        "\n",
        "print(\"Original Matrix:\")\n",
        "print(X)\n",
        "\n",
        "print(\"\\nSelected Rows for Multinomial Distribution with n =\", n)\n",
        "print(selected_rows)\n"
      ],
      "id": "a75323ae"
    },
    {
      "cell_type": "markdown",
      "metadata": {
        "id": "19721849"
      },
      "source": [
        "#### 100. Compute bootstrapped 95% confidence intervals for the mean of a 1D array X (i.e., resample the elements of an array with replacement N times, compute the mean of each sample, and then compute percentiles over the means). (★★★)"
      ],
      "id": "19721849"
    },
    {
      "cell_type": "code",
      "execution_count": null,
      "metadata": {
        "id": "87309c6f",
        "colab": {
          "base_uri": "https://localhost:8080/"
        },
        "outputId": "1eb91275-a6d2-4088-9516-07b2844ff085"
      },
      "outputs": [
        {
          "output_type": "stream",
          "name": "stdout",
          "text": [
            "Original Data:\n",
            "[ 5.99342831  4.7234714   6.29537708  8.04605971  4.53169325  4.53172609\n",
            "  8.15842563  6.53486946  4.06105123  6.08512009  4.07316461  4.06854049\n",
            "  5.48392454  1.17343951  1.55016433  3.87542494  2.97433776  5.62849467\n",
            "  3.18395185  2.1753926   7.93129754  4.5484474   5.13505641  2.15050363\n",
            "  3.91123455  5.22184518  2.69801285  5.75139604  3.79872262  4.4166125\n",
            "  3.79658678  8.70455637  4.97300555  2.88457814  6.64508982  2.5583127\n",
            "  5.41772719  1.08065975  2.3436279   5.39372247  6.47693316  5.34273656\n",
            "  4.76870344  4.39779261  2.04295602  3.56031158  4.07872246  7.11424445\n",
            "  5.68723658  1.47391969  5.64816794  4.22983544  3.646156    6.22335258\n",
            "  7.06199904  6.86256024  3.32156495  4.38157525  5.66252686  6.95109025\n",
            "  4.04165152  4.62868205  2.78733005  2.60758675  6.62505164  7.71248006\n",
            "  4.85597976  7.0070658   5.72327205  3.70976049  5.72279121  8.07607313\n",
            "  4.92834792  8.12928731 -0.23949021  6.64380501  5.17409414  4.4019853\n",
            "  5.18352155  1.02486217  4.56065622  5.71422514  7.95578809  3.96345956\n",
            "  3.38301279  3.99648591  6.83080424  5.65750222  3.94047959  6.02653487\n",
            "  5.1941551   6.93728998  3.59589381  4.34467571  4.21578369  2.0729701\n",
            "  5.59224055  5.52211054  5.01022691  4.53082573]\n",
            "\n",
            "95% Bootstrap Confidence Interval for the Mean:\n",
            "Lower Bound: 4.455327150281501\n",
            "Upper Bound: 5.12570297288039\n"
          ]
        }
      ],
      "source": [
        "import numpy as np\n",
        "\n",
        "def bootstrap_mean_ci(X, num_samples=1000, alpha=0.05):\n",
        "    means = np.zeros(num_samples)\n",
        "\n",
        "    for i in range(num_samples):\n",
        "        # Resample with replacement\n",
        "        resampled_data = np.random.choice(X, size=len(X), replace=True)\n",
        "\n",
        "        # Calculate mean of the resampled data\n",
        "        means[i] = np.mean(resampled_data)\n",
        "\n",
        "    # Calculate the confidence intervals\n",
        "    lower_bound = np.percentile(means, 100 * alpha / 2)\n",
        "    upper_bound = np.percentile(means, 100 * (1 - alpha / 2))\n",
        "\n",
        "    return lower_bound, upper_bound\n",
        "\n",
        "# Example usage:\n",
        "np.random.seed(42)  # For reproducibility\n",
        "X = np.random.normal(loc=5, scale=2, size=100)  # Example 1D array\n",
        "\n",
        "lower, upper = bootstrap_mean_ci(X)\n",
        "\n",
        "print(\"Original Data:\")\n",
        "print(X)\n",
        "print(\"\\n95% Bootstrap Confidence Interval for the Mean:\")\n",
        "print(\"Lower Bound:\", lower)\n",
        "print(\"Upper Bound:\", upper)\n"
      ],
      "id": "87309c6f"
    }
  ],
  "metadata": {
    "colab": {
      "provenance": [],
      "include_colab_link": true
    },
    "kernelspec": {
      "display_name": "Python 3",
      "name": "python3"
    },
    "language_info": {
      "name": "python"
    }
  },
  "nbformat": 4,
  "nbformat_minor": 5
}